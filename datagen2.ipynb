{
  "cells": [
    {
      "cell_type": "code",
      "execution_count": 1,
      "metadata": {
        "colab": {
          "base_uri": "https://localhost:8080/"
        },
        "id": "-5uB0ilxyaux",
        "outputId": "4a189bd3-2fb6-42d3-b8eb-e0598162a56a"
      },
      "outputs": [
        {
          "name": "stdout",
          "output_type": "stream",
          "text": [
            "Sequential(\n",
            "  (0): Conv1d(2, 37, kernel_size=(3,), stride=(1,), padding=(1,))\n",
            "  (1): LeakyReLU(negative_slope=0.01)\n",
            "  (2): Linear(in_features=587412, out_features=10, bias=True)\n",
            "  (3): Tanh()\n",
            "  (4): Linear(in_features=100, out_features=10, bias=True)\n",
            ")\n"
          ]
        }
      ],
      "source": [
        "import torch\n",
        "import torch.nn as nn\n",
        "import random\n",
        "\n",
        "def generate_random_network():\n",
        "    layers = []\n",
        "    input_channels = random.randint(1, 3)\n",
        "    input_size = random.randint(32, 224)\n",
        "    output_size = random.randint(1, 10)\n",
        "    num_layers = random.randint(2, 5)\n",
        "\n",
        "    current_channels = input_channels\n",
        "    current_size = input_size\n",
        "\n",
        "    for i in range(num_layers):\n",
        "        # Randomly choose layer type\n",
        "        layer_type = random.choice(['linear', 'conv1d', 'conv2d'] if i < num_layers - 1 else ['linear'])\n",
        "\n",
        "        if layer_type == 'linear':\n",
        "            if i == 0:\n",
        "                in_features = current_channels * current_size * current_size\n",
        "            else:\n",
        "                in_features = get_output_features(layers[-1], current_channels, current_size)\n",
        "            out_features = random.randint(10, 200) if i < num_layers - 1 else output_size\n",
        "            layers.append(nn.Linear(in_features, out_features))\n",
        "            current_channels = 1\n",
        "            current_size = out_features\n",
        "        elif layer_type == 'conv1d':\n",
        "            out_channels = random.randint(16, 64)\n",
        "            layers.append(nn.Conv1d(current_channels, out_channels, kernel_size=3, padding=1))\n",
        "            current_channels = out_channels\n",
        "        elif layer_type == 'conv2d':\n",
        "            out_channels = random.randint(16, 64)\n",
        "            layers.append(nn.Conv2d(current_channels, out_channels, kernel_size=3, padding=1))\n",
        "            current_channels = out_channels\n",
        "\n",
        "        # Randomly add normalization\n",
        "        if random.choice([True, False]):\n",
        "            if layer_type == 'linear':\n",
        "                layers.append(nn.BatchNorm1d(out_features))\n",
        "            elif layer_type == 'conv1d':\n",
        "                layers.append(nn.BatchNorm1d(out_channels))\n",
        "            elif layer_type == 'conv2d':\n",
        "                layers.append(nn.BatchNorm2d(out_channels))\n",
        "\n",
        "        # Randomly add activation functions\n",
        "        if random.choice([True, False]):\n",
        "            layers.append(random.choice([nn.ReLU(), nn.LeakyReLU(), nn.Tanh(), nn.Sigmoid()]))\n",
        "\n",
        "        # Randomly add dropout\n",
        "        if random.choice([True, False]):\n",
        "            layers.append(nn.Dropout(p=random.uniform(0.1, 0.5)))\n",
        "\n",
        "    # Ensure the last layer is Linear and outputs the correct size\n",
        "    if not isinstance(layers[-1], nn.Linear) or layers[-1].out_features != output_size:\n",
        "        in_features = get_output_features(layers[-1], current_channels, current_size)\n",
        "        layers.append(nn.Linear(in_features, output_size))\n",
        "\n",
        "    return nn.Sequential(*layers)\n",
        "\n",
        "def get_output_features(layer, current_channels, current_size):\n",
        "    if isinstance(layer, nn.Linear):\n",
        "        return layer.out_features\n",
        "    elif isinstance(layer, (nn.Conv1d, nn.Conv2d)):\n",
        "        return layer.out_channels\n",
        "    elif isinstance(layer, (nn.BatchNorm1d, nn.BatchNorm2d)):\n",
        "        return layer.num_features\n",
        "    elif isinstance(layer, (nn.ReLU, nn.LeakyReLU, nn.Tanh, nn.Sigmoid, nn.Dropout)):\n",
        "        return current_channels * current_size * current_size\n",
        "    else:\n",
        "        raise ValueError(f\"Unsupported layer type: {type(layer)}\")\n",
        "\n",
        "# Test the function\n",
        "try:\n",
        "    model = generate_random_network()\n",
        "    print(model)\n",
        "except Exception as e:\n",
        "    print(f\"An error occurred: {e}\")"
      ]
    },
    {
      "cell_type": "code",
      "execution_count": 2,
      "metadata": {
        "colab": {
          "base_uri": "https://localhost:8080/"
        },
        "id": "JQhZ5dOmyeC5",
        "outputId": "db74a089-5685-4c6b-d581-bbcc355e40f5"
      },
      "outputs": [
        {
          "name": "stdout",
          "output_type": "stream",
          "text": [
            "This neural network takes an input of shape (b,3,w) and produces an output of shape (b,5). It consists of 11 layers, including a 1D Convolutional layer (3 -> 34, kernel_size=3), a Dropout layer (p=0.31), a Linear layer (1240354 -> 142), a 2D Convolutional layer (1 -> 24, kernel_size=(3, 3)), a 2D Batch Normalization (num_features=24), a Tanh activation, a Dropout layer (p=0.32), a Linear layer (483936 -> 5), a 1D Batch Normalization (num_features=5), a ReLU activation, a Linear layer (25 -> 5).\n"
          ]
        }
      ],
      "source": [
        "def generate_description(model):\n",
        "    layers = list(model.children())\n",
        "\n",
        "    # Determine input shape\n",
        "    first_layer = layers[0]\n",
        "    if isinstance(first_layer, nn.Linear):\n",
        "        input_shape = f\"b,{first_layer.in_features}\"\n",
        "    elif isinstance(first_layer, nn.Conv1d):\n",
        "        input_shape = f\"b,{first_layer.in_channels},w\"\n",
        "    elif isinstance(first_layer, nn.Conv2d):\n",
        "        input_shape = f\"b,{first_layer.in_channels},h,w\"\n",
        "    else:\n",
        "        input_shape = \"unknown\"\n",
        "\n",
        "    # Determine output shape\n",
        "    last_layer = next((layer for layer in reversed(layers) if isinstance(layer, nn.Linear)), None)\n",
        "    if last_layer:\n",
        "        output_shape = f\"b,{last_layer.out_features}\"\n",
        "    else:\n",
        "        output_shape = \"unknown\"\n",
        "\n",
        "    description = f\"This neural network takes an input of shape ({input_shape}) \"\n",
        "    description += f\"and produces an output of shape ({output_shape}). \"\n",
        "    description += f\"It consists of {len(layers)} layers, including \"\n",
        "\n",
        "    layer_descriptions = []\n",
        "    for layer in layers:\n",
        "        if isinstance(layer, nn.Linear):\n",
        "            layer_descriptions.append(f\"a Linear layer ({layer.in_features} -> {layer.out_features})\")\n",
        "        elif isinstance(layer, nn.Conv1d):\n",
        "            layer_descriptions.append(f\"a 1D Convolutional layer ({layer.in_channels} -> {layer.out_channels}, kernel_size={layer.kernel_size[0]})\")\n",
        "        elif isinstance(layer, nn.Conv2d):\n",
        "            layer_descriptions.append(f\"a 2D Convolutional layer ({layer.in_channels} -> {layer.out_channels}, kernel_size={layer.kernel_size})\")\n",
        "        elif isinstance(layer, nn.BatchNorm1d):\n",
        "            layer_descriptions.append(f\"a 1D Batch Normalization (num_features={layer.num_features})\")\n",
        "        elif isinstance(layer, nn.BatchNorm2d):\n",
        "            layer_descriptions.append(f\"a 2D Batch Normalization (num_features={layer.num_features})\")\n",
        "        elif isinstance(layer, nn.ReLU):\n",
        "            layer_descriptions.append(\"a ReLU activation\")\n",
        "        elif isinstance(layer, nn.LeakyReLU):\n",
        "            layer_descriptions.append(f\"a Leaky ReLU activation (negative_slope={layer.negative_slope:.2f})\")\n",
        "        elif isinstance(layer, nn.Tanh):\n",
        "            layer_descriptions.append(\"a Tanh activation\")\n",
        "        elif isinstance(layer, nn.Sigmoid):\n",
        "            layer_descriptions.append(\"a Sigmoid activation\")\n",
        "        elif isinstance(layer, nn.Dropout):\n",
        "            layer_descriptions.append(f\"a Dropout layer (p={layer.p:.2f})\")\n",
        "        else:\n",
        "            layer_descriptions.append(f\"an unknown layer type: {type(layer).__name__}\")\n",
        "\n",
        "    description += \", \".join(layer_descriptions) + \".\"\n",
        "    return description\n",
        "\n",
        "# Example usage:\n",
        "model = generate_random_network()\n",
        "description = generate_description(model)\n",
        "print(description)"
      ]
    },
    {
      "cell_type": "code",
      "execution_count": 3,
      "metadata": {
        "id": "ory2GcyiyiJS"
      },
      "outputs": [],
      "source": [
        "import gc\n",
        "def generate_dataset(num_samples):\n",
        "    dataset = []\n",
        "    for _ in range(num_samples):\n",
        "        model = generate_random_network()\n",
        "        description = generate_description(model)\n",
        "        dataset.append((str(model), description))\n",
        "        # Explicitly delete variables and run garbage collection\n",
        "        del model\n",
        "        del description\n",
        "        gc.collect()\n",
        "    return dataset\n",
        "\n",
        "# Generate samples dataset\n",
        "# sample_df = generate_dataset(1000)"
      ]
    },
    {
      "cell_type": "code",
      "execution_count": 4,
      "metadata": {
        "colab": {
          "base_uri": "https://localhost:8080/"
        },
        "id": "QsUJGpgt55V7",
        "outputId": "8a67eee3-8dd4-4d76-89c5-aeb8f31d537e"
      },
      "outputs": [
        {
          "data": {
            "text/plain": [
              "('Sequential(\\n  (0): Linear(in_features=34225, out_features=191, bias=True)\\n  (1): BatchNorm1d(191, eps=1e-05, momentum=0.1, affine=True, track_running_stats=True)\\n  (2): LeakyReLU(negative_slope=0.01)\\n  (3): Linear(in_features=36481, out_features=8, bias=True)\\n  (4): Tanh()\\n  (5): Linear(in_features=64, out_features=8, bias=True)\\n)',\n",
              " 'This neural network takes an input of shape (b,34225) and produces an output of shape (b,8). It consists of 6 layers, including a Linear layer (34225 -> 191), a 1D Batch Normalization (num_features=191), a Leaky ReLU activation (negative_slope=0.01), a Linear layer (36481 -> 8), a Tanh activation, a Linear layer (64 -> 8).')"
            ]
          },
          "execution_count": 4,
          "metadata": {},
          "output_type": "execute_result"
        }
      ],
      "source": [
        "sample_df[0]"
      ]
    },
    {
      "cell_type": "code",
      "execution_count": 5,
      "metadata": {
        "colab": {
          "base_uri": "https://localhost:8080/"
        },
        "id": "R1b8uxaR6Rdo",
        "outputId": "d9be1166-4bed-4fa3-cbea-6a9c92be0f79"
      },
      "outputs": [
        {
          "data": {
            "text/plain": [
              "tuple"
            ]
          },
          "execution_count": 5,
          "metadata": {},
          "output_type": "execute_result"
        }
      ],
      "source": [
        "type(sample_df[0])"
      ]
    },
    {
      "cell_type": "code",
      "execution_count": 6,
      "metadata": {
        "id": "_Q4-WNK45kU3"
      },
      "outputs": [],
      "source": [
        "import pickle\n",
        "\n",
        "def save_dataset(dataset, filename):\n",
        "    with open(filename, 'wb') as f:\n",
        "        pickle.dump(dataset, f)\n",
        "\n",
        "# save_dataset(sample_df, 'neural_network_dataset.pkl')"
      ]
    },
    {
      "cell_type": "code",
      "execution_count": 7,
      "metadata": {
        "colab": {
          "base_uri": "https://localhost:8080/"
        },
        "id": "ukHTSQw0xLhv",
        "outputId": "16e45a24-5346-4f3b-f06d-0fa0f23b58e9"
      },
      "outputs": [
        {
          "name": "stdout",
          "output_type": "stream",
          "text": [
            "total 366812\n",
            "drwxr-xr-x 1 root root      4096 Jul 13 10:45 .\n",
            "drwxr-xr-x 1 root root      4096 Jul 13 09:30 ..\n",
            "-rw-r--r-- 1 root root 374524731 Jul 13 11:08 checkpoint.pt\n",
            "drwxr-xr-x 4 root root      4096 Jul 11 13:21 .config\n",
            "drwx------ 5 root root      4096 Jul 13 10:45 drive\n",
            "-rw-r--r-- 1 root root   1061749 Jul 13 11:19 neural_network_dataset.pkl\n",
            "drwxr-xr-x 1 root root      4096 Jul 11 13:22 sample_data\n"
          ]
        }
      ],
      "source": [
        "!ls -al"
      ]
    },
    {
      "cell_type": "code",
      "execution_count": 8,
      "metadata": {
        "colab": {
          "base_uri": "https://localhost:8080/"
        },
        "collapsed": true,
        "id": "DCrSzOxzcqij",
        "outputId": "705b7217-eece-4629-f882-64bda121938c"
      },
      "outputs": [
        {
          "name": "stdout",
          "output_type": "stream",
          "text": [
            "Requirement already satisfied: transformers in /usr/local/lib/python3.10/dist-packages (4.41.2)\n",
            "Requirement already satisfied: filelock in /usr/local/lib/python3.10/dist-packages (from transformers) (3.15.4)\n",
            "Requirement already satisfied: huggingface-hub<1.0,>=0.23.0 in /usr/local/lib/python3.10/dist-packages (from transformers) (0.23.4)\n",
            "Requirement already satisfied: numpy>=1.17 in /usr/local/lib/python3.10/dist-packages (from transformers) (1.25.2)\n",
            "Requirement already satisfied: packaging>=20.0 in /usr/local/lib/python3.10/dist-packages (from transformers) (24.1)\n",
            "Requirement already satisfied: pyyaml>=5.1 in /usr/local/lib/python3.10/dist-packages (from transformers) (6.0.1)\n",
            "Requirement already satisfied: regex!=2019.12.17 in /usr/local/lib/python3.10/dist-packages (from transformers) (2024.5.15)\n",
            "Requirement already satisfied: requests in /usr/local/lib/python3.10/dist-packages (from transformers) (2.31.0)\n",
            "Requirement already satisfied: tokenizers<0.20,>=0.19 in /usr/local/lib/python3.10/dist-packages (from transformers) (0.19.1)\n",
            "Requirement already satisfied: safetensors>=0.4.1 in /usr/local/lib/python3.10/dist-packages (from transformers) (0.4.3)\n",
            "Requirement already satisfied: tqdm>=4.27 in /usr/local/lib/python3.10/dist-packages (from transformers) (4.66.4)\n",
            "Requirement already satisfied: fsspec>=2023.5.0 in /usr/local/lib/python3.10/dist-packages (from huggingface-hub<1.0,>=0.23.0->transformers) (2023.6.0)\n",
            "Requirement already satisfied: typing-extensions>=3.7.4.3 in /usr/local/lib/python3.10/dist-packages (from huggingface-hub<1.0,>=0.23.0->transformers) (4.12.2)\n",
            "Requirement already satisfied: charset-normalizer<4,>=2 in /usr/local/lib/python3.10/dist-packages (from requests->transformers) (3.3.2)\n",
            "Requirement already satisfied: idna<4,>=2.5 in /usr/local/lib/python3.10/dist-packages (from requests->transformers) (3.7)\n",
            "Requirement already satisfied: urllib3<3,>=1.21.1 in /usr/local/lib/python3.10/dist-packages (from requests->transformers) (2.0.7)\n",
            "Requirement already satisfied: certifi>=2017.4.17 in /usr/local/lib/python3.10/dist-packages (from requests->transformers) (2024.7.4)\n"
          ]
        }
      ],
      "source": [
        "!pip install transformers"
      ]
    },
    {
      "cell_type": "code",
      "execution_count": 4,
      "metadata": {
        "id": "TPTjF2ptb5v8"
      },
      "outputs": [],
      "source": [
        "import torch\n",
        "import torch.nn as nn\n",
        "import torch.optim as optim\n",
        "from torch.utils.data import DataLoader, Dataset\n",
        "\n",
        "class TransformerSeq2Seq(nn.Module):\n",
        "    def __init__(self, input_dim, output_dim, d_model=512, nhead=8, num_encoder_layers=6, num_decoder_layers=6, dim_feedforward=2048, dropout=0.1):\n",
        "        super(TransformerSeq2Seq, self).__init__()\n",
        "        self.transformer = nn.Transformer(d_model, nhead, num_encoder_layers, num_decoder_layers, dim_feedforward, dropout)\n",
        "        self.fc_out = nn.Linear(d_model, output_dim)\n",
        "        self.src_tok_emb = nn.Embedding(input_dim, d_model)\n",
        "        self.tgt_tok_emb = nn.Embedding(output_dim, d_model)\n",
        "        self.positional_encoding = nn.Embedding(5000, d_model)\n",
        "\n",
        "    def forward(self, src, tgt):\n",
        "        src_seq_len, N = src.shape\n",
        "        tgt_seq_len, N = tgt.shape\n",
        "\n",
        "        src_positions = (\n",
        "            torch.arange(0, src_seq_len).unsqueeze(1).expand(src_seq_len, N).to(src.device)\n",
        "        )\n",
        "        tgt_positions = (\n",
        "            torch.arange(0, tgt_seq_len).unsqueeze(1).expand(tgt_seq_len, N).to(tgt.device)\n",
        "        )\n",
        "\n",
        "        embed_src = self.src_tok_emb(src) + self.positional_encoding(src_positions)\n",
        "        embed_tgt = self.tgt_tok_emb(tgt) + self.positional_encoding(tgt_positions)\n",
        "\n",
        "        transformer_out = self.transformer(embed_src, embed_tgt)\n",
        "        out = self.fc_out(transformer_out)\n",
        "\n",
        "        return out\n",
        "\n"
      ]
    },
    {
      "cell_type": "code",
      "execution_count": 5,
      "metadata": {
        "colab": {
          "base_uri": "https://localhost:8080/",
          "height": 344,
          "referenced_widgets": [
            "1c03cb4a75ab4cb58968c56829b78dcc",
            "0d329627a8814f1da87d5fc601d297f1",
            "1be9ea1454204d34940636221653cb3b",
            "bd4c84cba9a649f0ad4dffbc23ac920b",
            "3861465c5245488b9e24958681c5daf0",
            "d04f4d89d33746efabdb64ad77004027",
            "c39b08a3d3f94a67970ee5c19ddfbc4f",
            "94a375bbb078426d8edfb17699752371",
            "c5e752c10eee48dea8c67bb1a64a7b35",
            "4a2aff0fb09e49d98b4687e99177e966",
            "54f79fb3412a4ee6a131d7fb6721215b",
            "db8b892040ef490f84a1090874cbdf1c",
            "889f34f938da4c76a4ea2e76cba0c284",
            "d5556c0e6c0e4df1a4fda59899928b9c",
            "54af7fde1bc34367a61d3d66d1d33d2a",
            "5405919a0e0a4b859f8c627378ad8753",
            "d24435f592cd49a6a1f9ea91320a0e96",
            "16323910ebde4c8f9cb7ce23d6b9dad7",
            "cc418ee1ec224cd4aad848e8b7884ac5",
            "68d5bd68c5a8457eb10092a3965db170",
            "5fcc6f9dbc494351bbbc5d1dea0e6d08",
            "f197000dfd9f4ac29256b81cd7b0f88a",
            "8ab667b245c9417db41ac4c936abb0ac",
            "782377568d2740088a53148c5b9965de",
            "bb41d43a46654693a8357a077c92b25f",
            "b09d58a670f24920bebc5438788eee65",
            "8e2c778e0121497594db2f900f0801ac",
            "bac10d60dbe94b92ba278080fe9c68d9",
            "3b15bcf187504fc881500a159d4d478b",
            "6507309f9094475eb4ebc900ef96bc9e",
            "2fb49176c98d42bc98f673fccb632be0",
            "f8aae48142724f9c91f691c925bd725a",
            "31255f7771194fd78a063a5fbe0a155c",
            "4bbef3cab17541328c5bbba168818cb2",
            "605a9a083da94db79f223c34f7a92634",
            "cdff88ab28564532a94e734983fac13a",
            "ce4aef770eaa46d982d21f9546bfecf7",
            "d0a82da1cedf48f3afcfc6454d62f5b5",
            "855b4d21c30f4bb68774390c8ccffb0a",
            "a00cd2785169462ba6e8408a2c8fa2c2",
            "147dcde1577e4bf49b71c454ec3941e5",
            "52d8445a815f412cb219f7aafcc504a2",
            "8b5a850961cb415fbf4e47bb76ce1d6c",
            "0327a8178ad14d0b93aa81af731e7a8d"
          ]
        },
        "id": "V-1rgVoefXSx",
        "outputId": "25d86536-9889-4de3-ef77-0a13a657c01c"
      },
      "outputs": [
        {
          "name": "stderr",
          "output_type": "stream",
          "text": [
            "/usr/local/lib/python3.10/dist-packages/huggingface_hub/utils/_token.py:89: UserWarning: \n",
            "The secret `HF_TOKEN` does not exist in your Colab secrets.\n",
            "To authenticate with the Hugging Face Hub, create a token in your settings tab (https://huggingface.co/settings/tokens), set it as secret in your Google Colab and restart your session.\n",
            "You will be able to reuse this secret in all of your notebooks.\n",
            "Please note that authentication is recommended but still optional to access public models or datasets.\n",
            "  warnings.warn(\n"
          ]
        },
        {
          "data": {
            "application/vnd.jupyter.widget-view+json": {
              "model_id": "1c03cb4a75ab4cb58968c56829b78dcc",
              "version_major": 2,
              "version_minor": 0
            },
            "text/plain": [
              "tokenizer_config.json:   0%|          | 0.00/48.0 [00:00<?, ?B/s]"
            ]
          },
          "metadata": {},
          "output_type": "display_data"
        },
        {
          "data": {
            "application/vnd.jupyter.widget-view+json": {
              "model_id": "db8b892040ef490f84a1090874cbdf1c",
              "version_major": 2,
              "version_minor": 0
            },
            "text/plain": [
              "vocab.txt:   0%|          | 0.00/232k [00:00<?, ?B/s]"
            ]
          },
          "metadata": {},
          "output_type": "display_data"
        },
        {
          "data": {
            "application/vnd.jupyter.widget-view+json": {
              "model_id": "8ab667b245c9417db41ac4c936abb0ac",
              "version_major": 2,
              "version_minor": 0
            },
            "text/plain": [
              "tokenizer.json:   0%|          | 0.00/466k [00:00<?, ?B/s]"
            ]
          },
          "metadata": {},
          "output_type": "display_data"
        },
        {
          "name": "stderr",
          "output_type": "stream",
          "text": [
            "/usr/local/lib/python3.10/dist-packages/huggingface_hub/file_download.py:1132: FutureWarning: `resume_download` is deprecated and will be removed in version 1.0.0. Downloads always resume when possible. If you want to force a new download, use `force_download=True`.\n",
            "  warnings.warn(\n"
          ]
        },
        {
          "data": {
            "application/vnd.jupyter.widget-view+json": {
              "model_id": "4bbef3cab17541328c5bbba168818cb2",
              "version_major": 2,
              "version_minor": 0
            },
            "text/plain": [
              "config.json:   0%|          | 0.00/570 [00:00<?, ?B/s]"
            ]
          },
          "metadata": {},
          "output_type": "display_data"
        },
        {
          "name": "stdout",
          "output_type": "stream",
          "text": [
            "Input Tokens: ['sequential', '(', '(', '0', ')', ':', 'linear', '(', 'in', '_', 'features', '=', '38', '##80', '##9', ',', 'out', '_', 'features', '=', '26', ',', 'bias', '=', 'true', ')', '(', '1', ')', ':', 'leak', '##yre', '##lu', '(', 'negative', '_', 'slope', '=', '0', '.', '01', ')', '(', '2', ')', ':', 'linear', '(', 'in', '_', 'features', '=', '67', '##6', ',', 'out', '_', 'features', '=', '183', ',', 'bias', '=', 'true', ')', '(', '3', ')', ':', 'batch', '##nor', '##m', '##1', '##d', '(', '183', ',', 'eps', '=', '1', '##e', '-', '05', ',', 'momentum', '=', '0', '.', '1', ',', 'af', '##fine', '=', 'true', ',', 'track', '_', 'running', '_', 'stats', '=', 'true', ')', '(', '4', ')', ':', 'leak', '##yre', '##lu', '(', 'negative', '_', 'slope', '=', '0', '.', '01', ')', '(', '5', ')', ':', 'con', '##v', '##2', '##d', '(', '1', ',', '25', ',', 'kernel', '_', 'size', '=', '(', '3', ',', '3', ')', ',', 'stride', '=', '(', '1', ',', '1', ')', ',', 'pad', '##ding', '=', '(', '1', ',', '1', ')', ')', '(', '6', ')', ':', 'drop', '##out', '(', 'p', '=', '0', '.', '118', '##90', '##51', '##8', '##86', '##57', '##21', '##18', '##9', ',', 'in', '##pl', '##ace', '=', 'false', ')', '(', '7', ')', ':', 'linear', '(', 'in', '_', 'features', '=', '83', '##7', '##22', '##5', ',', 'out', '_', 'features', '=', '8', ',', 'bias', '=', 'true', ')', ')']\n",
            "Output Tokens: ['this', 'neural', 'network', 'takes', 'an', 'input', 'of', 'shape', '(', 'b', ',', '38', '##80', '##9', ')', 'and', 'produces', 'an', 'output', 'of', 'shape', '(', 'b', ',', '8', ')', '.', 'it', 'consists', 'of', '8', 'layers', ',', 'including', 'a', 'linear', 'layer', '(', '38', '##80', '##9', '-', '>', '26', ')', ',', 'a', 'leak', '##y', 're', '##lu', 'activation', '(', 'negative', '_', 'slope', '=', '0', '.', '01', ')', ',', 'a', 'linear', 'layer', '(', '67', '##6', '-', '>', '183', ')', ',', 'a', '1', '##d', 'batch', 'normal', '##ization', '(', 'nu', '##m', '_', 'features', '=', '183', ')', ',', 'a', 'leak', '##y', 're', '##lu', 'activation', '(', 'negative', '_', 'slope', '=', '0', '.', '01', ')', ',', 'a', '2d', 'con', '##vo', '##lu', '##tion', '##al', 'layer', '(', '1', '-', '>', '25', ',', 'kernel', '_', 'size', '=', '(', '3', ',', '3', ')', ')', ',', 'a', 'drop', '##out', 'layer', '(', 'p', '=', '0', '.', '12', ')', ',', 'a', 'linear', 'layer', '(', '83', '##7', '##22', '##5', '-', '>', '8', ')', '.']\n"
          ]
        }
      ],
      "source": [
        "from transformers import BertTokenizer\n",
        "\n",
        "# Initialize the tokenizer\n",
        "tokenizer = BertTokenizer.from_pretrained('bert-base-uncased')\n",
        "\n",
        "# Example input and output\n",
        "example_input = \"Sequential((0): Linear(in_features=38809, out_features=26, bias=True) (1): LeakyReLU(negative_slope=0.01) (2): Linear(in_features=676, out_features=183, bias=True) (3): BatchNorm1d(183, eps=1e-05, momentum=0.1, affine=True, track_running_stats=True) (4): LeakyReLU(negative_slope=0.01) (5): Conv2d(1, 25, kernel_size=(3, 3), stride=(1, 1), padding=(1, 1)) (6): Dropout(p=0.11890518865721189, inplace=False) (7): Linear(in_features=837225, out_features=8, bias=True))\"\n",
        "example_output = \"This neural network takes an input of shape (b,38809) and produces an output of shape (b,8). It consists of 8 layers, including a Linear layer (38809 -> 26), a Leaky ReLU activation (negative_slope=0.01), a Linear layer (676 -> 183), a 1D Batch Normalization (num_features=183), a Leaky ReLU activation (negative_slope=0.01), a 2D Convolutional layer (1 -> 25, kernel_size=(3, 3)), a Dropout layer (p=0.12), a Linear layer (837225 -> 8).\"\n",
        "\n",
        "# Tokenize the input and output\n",
        "input_tokens = tokenizer.tokenize(example_input)\n",
        "output_tokens = tokenizer.tokenize(example_output)\n",
        "\n",
        "print(\"Input Tokens:\", input_tokens)\n",
        "print(\"Output Tokens:\", output_tokens)\n"
      ]
    },
    {
      "cell_type": "code",
      "execution_count": 6,
      "metadata": {
        "colab": {
          "base_uri": "https://localhost:8080/"
        },
        "id": "EQ_VCH5DhfmV",
        "outputId": "b82de8e9-dde8-4cd3-c6ca-697d149ee89f"
      },
      "outputs": [
        {
          "name": "stdout",
          "output_type": "stream",
          "text": [
            "Input IDs: [25582, 1006, 1006, 1014, 1007, 1024, 7399, 1006, 1999, 1035, 2838, 1027, 4229, 17914, 2683, 1010, 2041, 1035, 2838, 1027, 2656, 1010, 13827, 1027, 2995, 1007, 1006, 1015, 1007, 1024, 17271, 16363, 7630, 1006, 4997, 1035, 9663, 1027, 1014, 1012, 5890, 1007, 1006, 1016, 1007, 1024, 7399, 1006, 1999, 1035, 2838, 1027, 6163, 2575, 1010, 2041, 1035, 2838, 1027, 18677, 1010, 13827, 1027, 2995, 1007, 1006, 1017, 1007, 1024, 14108, 12131, 2213, 2487, 2094, 1006, 18677, 1010, 20383, 1027, 1015, 2063, 1011, 5709, 1010, 11071, 1027, 1014, 1012, 1015, 1010, 21358, 23460, 1027, 2995, 1010, 2650, 1035, 2770, 1035, 26319, 1027, 2995, 1007, 1006, 1018, 1007, 1024, 17271, 16363, 7630, 1006, 4997, 1035, 9663, 1027, 1014, 1012, 5890, 1007, 1006, 1019, 1007, 1024, 9530, 2615, 2475, 2094, 1006, 1015, 1010, 2423, 1010, 16293, 1035, 2946, 1027, 1006, 1017, 1010, 1017, 1007, 1010, 18045, 1027, 1006, 1015, 1010, 1015, 1007, 1010, 11687, 4667, 1027, 1006, 1015, 1010, 1015, 1007, 1007, 1006, 1020, 1007, 1024, 4530, 5833, 1006, 1052, 1027, 1014, 1012, 12963, 21057, 22203, 2620, 20842, 28311, 17465, 15136, 2683, 1010, 1999, 24759, 10732, 1027, 6270, 1007, 1006, 1021, 1007, 1024, 7399, 1006, 1999, 1035, 2838, 1027, 6640, 2581, 19317, 2629, 1010, 2041, 1035, 2838, 1027, 1022, 1010, 13827, 1027, 2995, 1007, 1007]\n",
            "Output IDs: [2023, 15756, 2897, 3138, 2019, 7953, 1997, 4338, 1006, 1038, 1010, 4229, 17914, 2683, 1007, 1998, 7137, 2019, 6434, 1997, 4338, 1006, 1038, 1010, 1022, 1007, 1012, 2009, 3774, 1997, 1022, 9014, 1010, 2164, 1037, 7399, 6741, 1006, 4229, 17914, 2683, 1011, 1028, 2656, 1007, 1010, 1037, 17271, 2100, 2128, 7630, 13791, 1006, 4997, 1035, 9663, 1027, 1014, 1012, 5890, 1007, 1010, 1037, 7399, 6741, 1006, 6163, 2575, 1011, 1028, 18677, 1007, 1010, 1037, 1015, 2094, 14108, 3671, 3989, 1006, 16371, 2213, 1035, 2838, 1027, 18677, 1007, 1010, 1037, 17271, 2100, 2128, 7630, 13791, 1006, 4997, 1035, 9663, 1027, 1014, 1012, 5890, 1007, 1010, 1037, 14134, 9530, 6767, 7630, 3508, 2389, 6741, 1006, 1015, 1011, 1028, 2423, 1010, 16293, 1035, 2946, 1027, 1006, 1017, 1010, 1017, 1007, 1007, 1010, 1037, 4530, 5833, 6741, 1006, 1052, 1027, 1014, 1012, 2260, 1007, 1010, 1037, 7399, 6741, 1006, 6640, 2581, 19317, 2629, 1011, 1028, 1022, 1007, 1012]\n"
          ]
        }
      ],
      "source": [
        "# Convert tokens to input IDs\n",
        "input_ids = tokenizer.convert_tokens_to_ids(input_tokens)\n",
        "output_ids = tokenizer.convert_tokens_to_ids(output_tokens)\n",
        "\n",
        "print(\"Input IDs:\", input_ids)\n",
        "print(\"Output IDs:\", output_ids)\n"
      ]
    },
    {
      "cell_type": "code",
      "execution_count": 7,
      "metadata": {
        "colab": {
          "base_uri": "https://localhost:8080/"
        },
        "id": "Xi6tCp11jAp1",
        "outputId": "4c1677fe-a551-45de-f84d-d82c8ce8dd43"
      },
      "outputs": [
        {
          "name": "stdout",
          "output_type": "stream",
          "text": [
            "Source Shape: torch.Size([1, 512])\n",
            "Target Shape: torch.Size([1, 512])\n"
          ]
        }
      ],
      "source": [
        "from transformers import BertTokenizer\n",
        "import torch\n",
        "from torch.utils.data import Dataset, DataLoader\n",
        "\n",
        "class SyntheticDataset(Dataset):\n",
        "    def __init__(self, data, tokenizer, max_length=512):\n",
        "        self.data = data\n",
        "        self.tokenizer = tokenizer\n",
        "        self.max_length = max_length\n",
        "\n",
        "    def __len__(self):\n",
        "        return len(self.data)\n",
        "\n",
        "    def __getitem__(self, idx):\n",
        "        input_text, output_text = self.data[idx]\n",
        "\n",
        "        # Tokenize input and output texts\n",
        "        input_encoding = self.tokenizer(input_text, return_tensors='pt', max_length=self.max_length, truncation=True, padding='max_length')\n",
        "        output_encoding = self.tokenizer(output_text, return_tensors='pt', max_length=self.max_length, truncation=True, padding='max_length')\n",
        "\n",
        "        # Extract input and output IDs\n",
        "        input_ids = input_encoding['input_ids'].squeeze(0)  # Remove batch dimension\n",
        "        output_ids = output_encoding['input_ids'].squeeze(0)  # Remove batch dimension\n",
        "\n",
        "        return input_ids, output_ids\n",
        "\n",
        "# Initialize the tokenizer\n",
        "tokenizer = BertTokenizer.from_pretrained('bert-base-uncased')\n",
        "\n",
        "# Example data\n",
        "example_input = \"Sequential((0): Linear(in_features=38809, out_features=26, bias=True) (1): LeakyReLU(negative_slope=0.01) (2): Linear(in_features=676, out_features=183, bias=True) (3): BatchNorm1d(183, eps=1e-05, momentum=0.1, affine=True, track_running_stats=True) (4): LeakyReLU(negative_slope=0.01) (5): Conv2d(1, 25, kernel_size=(3, 3), stride=(1, 1), padding=(1, 1)) (6): Dropout(p=0.11890518865721189, inplace=False) (7): Linear(in_features=837225, out_features=8, bias=True))\"\n",
        "example_output = \"This neural network takes an input of shape (b,38809) and produces an output of shape (b,8). It consists of 8 layers, including a Linear layer (38809 -> 26), a Leaky ReLU activation (negative_slope=0.01), a Linear layer (676 -> 183), a 1D Batch Normalization (num_features=183), a Leaky ReLU activation (negative_slope=0.01), a 2D Convolutional layer (1 -> 25, kernel_size=(3, 3)), a Dropout layer (p=0.12), a Linear layer (837225 -> 8).\"\n",
        "\n",
        "# Create dataset\n",
        "data = [(example_input, example_output)]\n",
        "# data = [(str(sample_df[-1][0]), sample_df[-1][1])]\n",
        "# data = [(str(sample_df[i][0]), sample_df[i][1]) for i in range(len(sample_df))]\n",
        "dataset = SyntheticDataset(data, tokenizer)\n",
        "\n",
        "# Create DataLoader\n",
        "dataloader = DataLoader(dataset, batch_size=16, shuffle=True)\n",
        "\n",
        "# Print the first batch to verify\n",
        "for batch in dataloader:\n",
        "    src, tgt = batch\n",
        "    print(\"Source Shape:\", src.shape)\n",
        "    print(\"Target Shape:\", tgt.shape)\n",
        "    break\n"
      ]
    },
    {
      "cell_type": "code",
      "execution_count": 14,
      "metadata": {
        "colab": {
          "base_uri": "https://localhost:8080/",
          "height": 107
        },
        "id": "CzXrXTbPk6Cj",
        "outputId": "e91f46d0-72e5-4018-edc9-8e89a2513e1a"
      },
      "outputs": [
        {
          "data": {
            "application/vnd.google.colaboratory.intrinsic+json": {
              "type": "string"
            },
            "text/plain": [
              "'Sequential(\\n  (0): Conv2d(1, 29, kernel_size=(3, 3), stride=(1, 1), padding=(1, 1))\\n  (1): Conv1d(29, 29, kernel_size=(3,), stride=(1,), padding=(1,))\\n  (2): BatchNorm1d(29, eps=1e-05, momentum=0.1, affine=True, track_running_stats=True)\\n  (3): ReLU()\\n  (4): Dropout(p=0.3357099483812358, inplace=False)\\n  (5): Linear(in_features=290000, out_features=160, bias=True)\\n  (6): Linear(in_features=160, out_features=4, bias=True)\\n)'"
            ]
          },
          "execution_count": 14,
          "metadata": {},
          "output_type": "execute_result"
        }
      ],
      "source": [
        "str(sample_df[-1][0])\n"
      ]
    },
    {
      "cell_type": "code",
      "execution_count": 34,
      "metadata": {
        "colab": {
          "base_uri": "https://localhost:8080/"
        },
        "id": "v--57KocyNBK",
        "outputId": "310813e8-f036-475e-aeae-c125e04f6782"
      },
      "outputs": [
        {
          "name": "stdout",
          "output_type": "stream",
          "text": [
            "Sat Jul 13 11:13:43 2024       \n",
            "+---------------------------------------------------------------------------------------+\n",
            "| NVIDIA-SMI 535.104.05             Driver Version: 535.104.05   CUDA Version: 12.2     |\n",
            "|-----------------------------------------+----------------------+----------------------+\n",
            "| GPU  Name                 Persistence-M | Bus-Id        Disp.A | Volatile Uncorr. ECC |\n",
            "| Fan  Temp   Perf          Pwr:Usage/Cap |         Memory-Usage | GPU-Util  Compute M. |\n",
            "|                                         |                      |               MIG M. |\n",
            "|=========================================+======================+======================|\n",
            "|   0  Tesla T4                       Off | 00000000:00:04.0 Off |                    0 |\n",
            "| N/A   78C    P0              33W /  70W |  12381MiB / 15360MiB |      0%      Default |\n",
            "|                                         |                      |                  N/A |\n",
            "+-----------------------------------------+----------------------+----------------------+\n",
            "                                                                                         \n",
            "+---------------------------------------------------------------------------------------+\n",
            "| Processes:                                                                            |\n",
            "|  GPU   GI   CI        PID   Type   Process name                            GPU Memory |\n",
            "|        ID   ID                                                             Usage      |\n",
            "|=======================================================================================|\n",
            "+---------------------------------------------------------------------------------------+\n"
          ]
        }
      ],
      "source": [
        "##clean gpu\n",
        "!nvidia-smi"
      ]
    },
    {
      "cell_type": "code",
      "execution_count": 35,
      "metadata": {
        "id": "JtUQ5SFHyvCd"
      },
      "outputs": [],
      "source": [
        "torch.cuda.synchronize()"
      ]
    },
    {
      "cell_type": "code",
      "execution_count": 33,
      "metadata": {
        "id": "oHoLMH1sy7DL"
      },
      "outputs": [],
      "source": [
        "# Clear GPU memory\n",
        "torch.cuda.empty_cache()"
      ]
    },
    {
      "cell_type": "code",
      "execution_count": 8,
      "metadata": {
        "colab": {
          "base_uri": "https://localhost:8080/"
        },
        "id": "VwHKeyRqisLk",
        "outputId": "6f56f2d7-5526-4b3f-8d21-961e07583753"
      },
      "outputs": [
        {
          "name": "stderr",
          "output_type": "stream",
          "text": [
            "/usr/local/lib/python3.10/dist-packages/torch/nn/modules/transformer.py:306: UserWarning: enable_nested_tensor is True, but self.use_nested_tensor is False because encoder_layer.self_attn.batch_first was not True(use batch_first for better inference performance)\n",
            "  warnings.warn(f\"enable_nested_tensor is True, but self.use_nested_tensor is False because {why_not_sparsity_fast_path}\")\n"
          ]
        }
      ],
      "source": [
        "device = torch.device('cuda' if torch.cuda.is_available() else 'cpu')\n",
        "\n",
        "model = TransformerSeq2Seq(len(tokenizer.vocab), len(tokenizer.vocab)).to(device)\n",
        "optimizer = optim.Adam(model.parameters(), lr=0.0001)\n",
        "criterion = nn.CrossEntropyLoss()\n",
        "\n",
        "def train(model, dataloader, optimizer, criterion, num_epochs=10):\n",
        "    model.train()\n",
        "\n",
        "    for epoch in range(num_epochs):\n",
        "        epoch_loss = 0\n",
        "\n",
        "        for src, tgt in dataloader:\n",
        "            src, tgt = src.to(device), tgt.to(device)\n",
        "\n",
        "            optimizer.zero_grad()\n",
        "\n",
        "            output = model(src, tgt[:-1, :])\n",
        "            output = output.reshape(-1, output.shape[2])\n",
        "            tgt = tgt[1:, :].reshape(-1)\n",
        "\n",
        "            loss = criterion(output, tgt)\n",
        "            loss.backward()\n",
        "            optimizer.step()\n",
        "\n",
        "            epoch_loss += loss.item()\n",
        "\n",
        "        print(f'Epoch {epoch+1}, Loss: {epoch_loss / len(dataloader)}')\n",
        "\n",
        "# Train the model\n",
        "# train(model, dataloader, optimizer, criterion, num_epochs=20)\n"
      ]
    },
    {
      "cell_type": "code",
      "execution_count": 29,
      "metadata": {
        "colab": {
          "base_uri": "https://localhost:8080/"
        },
        "id": "Wd4AoIPhxrmQ",
        "outputId": "a7f278fa-d0b5-4bf7-b4a2-c0f11a9a1b04"
      },
      "outputs": [
        {
          "data": {
            "text/plain": [
              "1008"
            ]
          },
          "execution_count": 29,
          "metadata": {},
          "output_type": "execute_result"
        }
      ],
      "source": [
        "24*42"
      ]
    },
    {
      "cell_type": "code",
      "execution_count": 16,
      "metadata": {
        "colab": {
          "base_uri": "https://localhost:8080/"
        },
        "id": "9dhZqSnFi6bL",
        "outputId": "0748e0b1-b310-4a60-d971-b5b8a2ecfedf"
      },
      "outputs": [
        {
          "name": "stdout",
          "output_type": "stream",
          "text": [
            "Epoch 1, Loss: 2.7872646517223783\n",
            "Epoch 2, Loss: 1.448282868143112\n",
            "Epoch 3, Loss: 0.7340554594993591\n",
            "Epoch 4, Loss: 0.31667683521906537\n",
            "Epoch 5, Loss: 0.226724345769201\n",
            "Epoch 6, Loss: 0.1719598188286736\n",
            "Epoch 7, Loss: 0.15356939274167258\n",
            "Epoch 8, Loss: 0.13517426782184178\n",
            "Epoch 9, Loss: 0.12769145021835962\n",
            "Epoch 10, Loss: 0.12258641835716036\n",
            "Epoch 11, Loss: 0.11372723962579455\n",
            "Epoch 12, Loss: 0.10256994013038892\n",
            "Epoch 13, Loss: 0.09916347513596217\n",
            "Epoch 14, Loss: 0.09907156607461354\n",
            "Epoch 15, Loss: 0.10461718435325319\n",
            "Epoch 16, Loss: 0.09511972697717803\n",
            "Epoch 17, Loss: 0.09591614833426854\n",
            "Epoch 18, Loss: 0.09148200991607848\n",
            "Epoch 19, Loss: 0.08968120842935547\n",
            "Epoch 20, Loss: 0.08350930646771476\n"
          ]
        }
      ],
      "source": [
        "import os\n",
        "\n",
        "def train_with_checkpointing(model, dataloader, optimizer, criterion, num_epochs=10, patience=3, checkpoint_path='checkpoint.pt'):\n",
        "    model.train()\n",
        "    best_loss = float('inf')\n",
        "    epochs_no_improve = 0\n",
        "\n",
        "    for epoch in range(num_epochs):\n",
        "        epoch_loss = 0\n",
        "\n",
        "        for src, tgt in dataloader:\n",
        "            src, tgt = src.to(device), tgt.to(device)\n",
        "\n",
        "            optimizer.zero_grad()\n",
        "\n",
        "            output = model(src, tgt[:-1, :])\n",
        "            output = output.reshape(-1, output.shape[2])\n",
        "            tgt = tgt[1:, :].reshape(-1)\n",
        "\n",
        "            loss = criterion(output, tgt)\n",
        "            loss.backward()\n",
        "            optimizer.step()\n",
        "\n",
        "            epoch_loss += loss.item()\n",
        "\n",
        "        avg_epoch_loss = epoch_loss / len(dataloader)\n",
        "        print(f'Epoch {epoch+1}, Loss: {avg_epoch_loss}')\n",
        "\n",
        "        # Checkpointing\n",
        "        if avg_epoch_loss < best_loss:\n",
        "            best_loss = avg_epoch_loss\n",
        "            torch.save(model.state_dict(), checkpoint_path)\n",
        "            epochs_no_improve = 0\n",
        "        else:\n",
        "            epochs_no_improve += 1\n",
        "            if epochs_no_improve == patience:\n",
        "                print('Early stopping')\n",
        "                break\n",
        "\n",
        "# Train the model with checkpointing\n",
        "# train_with_checkpointing(model, dataloader, optimizer, criterion, num_epochs=20, patience=5)\n"
      ]
    },
    {
      "cell_type": "code",
      "execution_count": 18,
      "metadata": {
        "colab": {
          "base_uri": "https://localhost:8080/"
        },
        "id": "htvJemL7sNuC",
        "outputId": "9027ee37-ebaa-464a-fa86-99ebee5caa30"
      },
      "outputs": [
        {
          "name": "stdout",
          "output_type": "stream",
          "text": [
            "total 4015984\n",
            "drwxr-xr-x 1 root root       4096 Jul 13 10:23 .\n",
            "drwxr-xr-x 1 root root       4096 Jul 13 09:30 ..\n",
            "-rw-r--r-- 1 root root  374524731 Jul 13 10:42 checkpoint.pt\n",
            "drwxr-xr-x 4 root root       4096 Jul 11 13:21 .config\n",
            "-rw-r--r-- 1 root root 3737814002 Jul 13 09:33 neural_network_dataset.pkl\n",
            "drwxr-xr-x 1 root root       4096 Jul 11 13:22 sample_data\n"
          ]
        }
      ],
      "source": [
        "!ls -al"
      ]
    },
    {
      "cell_type": "code",
      "execution_count": 17,
      "metadata": {
        "id": "4S6sHrDlsOcC"
      },
      "outputs": [],
      "source": [
        "!cp /content/checkpoint.pt /content/drive/MyDrive/ShodhAI/checkpoints"
      ]
    },
    {
      "cell_type": "code",
      "execution_count": null,
      "metadata": {
        "colab": {
          "base_uri": "https://localhost:8080/",
          "height": 385
        },
        "id": "uGPy0L9huHkW",
        "outputId": "b6fba402-5124-4a39-cd09-59c8eb572c83"
      },
      "outputs": [],
      "source": [
        "from transformers import BertTokenizer\n",
        "from sklearn.metrics import f1_score\n",
        "import torch\n",
        "from torch.utils.data import DataLoader\n",
        "import numpy as np\n",
        "\n",
        "\n",
        "device = torch.device('cuda' if torch.cuda.is_available() else 'cpu')\n",
        "\n",
        "def compute_f1_score(predictions, targets):\n",
        "    # Tokenize predictions and targets\n",
        "    pred_tokens = [pred.split() for pred in predictions]\n",
        "    target_tokens = [tgt.split() for tgt in targets]\n",
        "\n",
        "    # Flatten the lists\n",
        "    pred_flat = [token for sent in pred_tokens for token in sent]\n",
        "    target_flat = [token for sent in target_tokens for token in sent]\n",
        "\n",
        "    # Get unique tokens\n",
        "    unique_tokens = list(set(pred_flat + target_flat))\n",
        "\n",
        "    # Create label encodings\n",
        "    label_encoder = {token: i for i, token in enumerate(unique_tokens)}\n",
        "\n",
        "    # Encode predictions and targets\n",
        "    pred_encoded = [label_encoder[token] for token in pred_flat]\n",
        "    target_encoded = [label_encoder[token] for token in target_flat]\n",
        "\n",
        "    # Compute F1 score\n",
        "    return f1_score(target_encoded, pred_encoded, average='weighted')\n",
        "\n",
        "def test_model(model, tokenizer, test_data, batch_size=32):\n",
        "\n",
        "    # Prepare DataLoader for testing\n",
        "    test_dataset = SyntheticDataset(test_data, tokenizer)\n",
        "    test_dataloader = DataLoader(test_dataset, batch_size=batch_size)\n",
        "\n",
        "    # Set model to evaluation mode\n",
        "    model.eval()\n",
        "\n",
        "    predictions = []\n",
        "    targets = []\n",
        "\n",
        "    with torch.no_grad():\n",
        "        for src, tgt in test_dataloader:\n",
        "            src, tgt = src.to(device), tgt.to(device)\n",
        "\n",
        "            # Generate predictions\n",
        "            output = model(src, tgt[:-1, :])  # Remove last token from target for prediction\n",
        "            predicted_ids = torch.argmax(output, dim=-1)\n",
        "\n",
        "            # Convert predicted IDs to tokens\n",
        "            predicted_tokens = tokenizer.batch_decode(predicted_ids, skip_special_tokens=True)\n",
        "            target_tokens = tokenizer.batch_decode(tgt, skip_special_tokens=True)\n",
        "\n",
        "            # Store predictions and targets\n",
        "            predictions.extend(predicted_tokens)\n",
        "            targets.extend(target_tokens)\n",
        "\n",
        "    # Compute F1 score\n",
        "    f1 = compute_f1_score(predictions, targets)\n",
        "\n",
        "    return predictions, f1\n",
        "\n",
        "def main():\n",
        "    # Initialize tokenizer\n",
        "    tokenizer = BertTokenizer.from_pretrained('bert-base-uncased')\n",
        "\n",
        "    test_data = generate_dataset(10) # [(example source, example_traget)]\n",
        "\n",
        "    # Initialize and load your TransformerSeq2Seq model\n",
        "    model = TransformerSeq2Seq(input_dim=len(tokenizer.vocab), output_dim=len(tokenizer.vocab))\n",
        "    model.load_state_dict(torch.load('/content/drive/MyDrive/ShodhAI/checkpoints/checkpoint.pt', map_location= torch.device('cpu')))  # Load your trained model checkpoint\n",
        "    model.to(device)\n",
        "\n",
        "    # Test the model\n",
        "    predictions, f1_score = test_model(model, tokenizer, test_data)\n",
        "\n",
        "    # Print predictions and F1 score\n",
        "    for idx, prediction in enumerate(predictions):\n",
        "        print(f\"Example {idx + 1} Prediction:\", prediction)\n",
        "\n",
        "    print(f\"F1 Score: {f1_score:.4f}\")\n",
        "\n",
        "if __name__ == \"__main__\":\n",
        "    main()"
      ]
    },
    {
      "cell_type": "code",
      "execution_count": null,
      "metadata": {
        "colab": {
          "base_uri": "https://localhost:8080/",
          "height": 329
        },
        "id": "yc1PhD_KtMSw",
        "outputId": "3be81208-1447-4b76-b2af-ab2f36a71165"
      },
      "outputs": [],
      "source": [
        "from transformers import BertTokenizer\n",
        "from sklearn.metrics import f1_score\n",
        "import torch\n",
        "from torch.utils.data import DataLoader\n",
        "import numpy as np\n",
        "\n",
        "def compute_f1_score(predictions, targets):\n",
        "    # Ensure predictions and targets have the same length\n",
        "    min_len = min(len(predictions), len(targets))\n",
        "    predictions = predictions[:min_len]\n",
        "    targets = targets[:min_len]\n",
        "\n",
        "    # Tokenize predictions and targets\n",
        "    pred_tokens = [pred.split() for pred in predictions]\n",
        "    target_tokens = [tgt.split() for tgt in targets]\n",
        "\n",
        "    # Flatten the lists\n",
        "    pred_flat = [token for sent in pred_tokens for token in sent]\n",
        "    target_flat = [token for sent in target_tokens for token in sent]\n",
        "\n",
        "    # Get unique tokens\n",
        "    unique_tokens = list(set(pred_flat + target_flat))\n",
        "\n",
        "    # Create label encodings\n",
        "    label_encoder = {token: i for i, token in enumerate(unique_tokens)}\n",
        "\n",
        "    # Encode predictions and targets\n",
        "    pred_encoded = [label_encoder[token] for token in pred_flat]\n",
        "    target_encoded = [label_encoder[token] for token in target_flat]\n",
        "\n",
        "    # Compute F1 score\n",
        "    return f1_score(target_encoded, pred_encoded, average='weighted')\n",
        "\n",
        "def test_model(model, tokenizer, test_data, batch_size=32):\n",
        "    device = torch.device('cuda' if torch.cuda.is_available() else 'cpu')\n",
        "\n",
        "    # Prepare DataLoader for testing\n",
        "    test_dataset = SyntheticDataset(test_data, tokenizer)\n",
        "    test_dataloader = DataLoader(test_dataset, batch_size=batch_size)\n",
        "\n",
        "    # Set model to evaluation mode\n",
        "    model.eval()\n",
        "\n",
        "    predictions = []\n",
        "    targets = []\n",
        "\n",
        "    with torch.no_grad():\n",
        "        for src, tgt in test_dataloader:\n",
        "            src, tgt = src.to(device), tgt.to(device)\n",
        "\n",
        "            # Generate predictions\n",
        "            output = model(src, tgt[:-1, :])  # Remove last token from target for prediction\n",
        "            predicted_ids = torch.argmax(output, dim=-1)\n",
        "\n",
        "            # Convert predicted IDs to tokens\n",
        "            predicted_tokens = tokenizer.batch_decode(predicted_ids, skip_special_tokens=True)\n",
        "            target_tokens = tokenizer.batch_decode(tgt, skip_special_tokens=True)\n",
        "\n",
        "            # Store predictions and targets\n",
        "            predictions.extend(predicted_tokens)\n",
        "            targets.extend(target_tokens)\n",
        "\n",
        "    # Compute F1 score\n",
        "    f1 = compute_f1_score(predictions, targets)\n",
        "\n",
        "    return predictions, targets, f1\n",
        "\n",
        "def main():\n",
        "    # Initialize tokenizer\n",
        "    tokenizer = BertTokenizer.from_pretrained('bert-base-uncased')\n",
        "\n",
        "    test_data = generate_dataset(10) # [(example source, example_target)]\n",
        "\n",
        "    # Initialize and load your TransformerSeq2Seq model\n",
        "    model = TransformerSeq2Seq(input_dim=len(tokenizer.vocab), output_dim=len(tokenizer.vocab))\n",
        "    model.load_state_dict(torch.load('/content/drive/MyDrive/ShodhAI/checkpoints/checkpoint.pt', map_location= torch.device('cpu')))  # Load your trained model checkpoint\n",
        "    model.to('cpu')\n",
        "\n",
        "    # Test the model\n",
        "    predictions, targets, f1_score = test_model(model, tokenizer, test_data)\n",
        "\n",
        "    # Print predictions, targets, and F1 score\n",
        "    for idx, (pred, target) in enumerate(zip(predictions, targets)):\n",
        "        print(f\"Example {idx + 1}:\")\n",
        "        print(f\"  Prediction: {pred}\")\n",
        "        print(f\"  Target:     {target}\")\n",
        "        print()\n",
        "\n",
        "    print(f\"F1 Score: {f1_score:.4f}\")\n",
        "    print(f\"Number of predictions: {len(predictions)}\")\n",
        "    print(f\"Number of targets: {len(targets)}\")\n",
        "\n",
        "if __name__ == \"__main__\":\n",
        "    main()"
      ]
    },
    {
      "cell_type": "code",
      "execution_count": null,
      "metadata": {
        "id": "mrKSO1pUuw8u"
      },
      "outputs": [],
      "source": []
    }
  ],
  "metadata": {
    "accelerator": "GPU",
    "colab": {
      "gpuType": "T4",
      "provenance": []
    },
    "kernelspec": {
      "display_name": "Python 3",
      "name": "python3"
    },
    "language_info": {
      "name": "python"
    },
    "widgets": {
      "application/vnd.jupyter.widget-state+json": {
        "0327a8178ad14d0b93aa81af731e7a8d": {
          "model_module": "@jupyter-widgets/controls",
          "model_module_version": "1.5.0",
          "model_name": "DescriptionStyleModel",
          "state": {
            "_model_module": "@jupyter-widgets/controls",
            "_model_module_version": "1.5.0",
            "_model_name": "DescriptionStyleModel",
            "_view_count": null,
            "_view_module": "@jupyter-widgets/base",
            "_view_module_version": "1.2.0",
            "_view_name": "StyleView",
            "description_width": ""
          }
        },
        "0d329627a8814f1da87d5fc601d297f1": {
          "model_module": "@jupyter-widgets/controls",
          "model_module_version": "1.5.0",
          "model_name": "HTMLModel",
          "state": {
            "_dom_classes": [],
            "_model_module": "@jupyter-widgets/controls",
            "_model_module_version": "1.5.0",
            "_model_name": "HTMLModel",
            "_view_count": null,
            "_view_module": "@jupyter-widgets/controls",
            "_view_module_version": "1.5.0",
            "_view_name": "HTMLView",
            "description": "",
            "description_tooltip": null,
            "layout": "IPY_MODEL_d04f4d89d33746efabdb64ad77004027",
            "placeholder": "​",
            "style": "IPY_MODEL_c39b08a3d3f94a67970ee5c19ddfbc4f",
            "value": "tokenizer_config.json: 100%"
          }
        },
        "147dcde1577e4bf49b71c454ec3941e5": {
          "model_module": "@jupyter-widgets/base",
          "model_module_version": "1.2.0",
          "model_name": "LayoutModel",
          "state": {
            "_model_module": "@jupyter-widgets/base",
            "_model_module_version": "1.2.0",
            "_model_name": "LayoutModel",
            "_view_count": null,
            "_view_module": "@jupyter-widgets/base",
            "_view_module_version": "1.2.0",
            "_view_name": "LayoutView",
            "align_content": null,
            "align_items": null,
            "align_self": null,
            "border": null,
            "bottom": null,
            "display": null,
            "flex": null,
            "flex_flow": null,
            "grid_area": null,
            "grid_auto_columns": null,
            "grid_auto_flow": null,
            "grid_auto_rows": null,
            "grid_column": null,
            "grid_gap": null,
            "grid_row": null,
            "grid_template_areas": null,
            "grid_template_columns": null,
            "grid_template_rows": null,
            "height": null,
            "justify_content": null,
            "justify_items": null,
            "left": null,
            "margin": null,
            "max_height": null,
            "max_width": null,
            "min_height": null,
            "min_width": null,
            "object_fit": null,
            "object_position": null,
            "order": null,
            "overflow": null,
            "overflow_x": null,
            "overflow_y": null,
            "padding": null,
            "right": null,
            "top": null,
            "visibility": null,
            "width": null
          }
        },
        "16323910ebde4c8f9cb7ce23d6b9dad7": {
          "model_module": "@jupyter-widgets/controls",
          "model_module_version": "1.5.0",
          "model_name": "DescriptionStyleModel",
          "state": {
            "_model_module": "@jupyter-widgets/controls",
            "_model_module_version": "1.5.0",
            "_model_name": "DescriptionStyleModel",
            "_view_count": null,
            "_view_module": "@jupyter-widgets/base",
            "_view_module_version": "1.2.0",
            "_view_name": "StyleView",
            "description_width": ""
          }
        },
        "1be9ea1454204d34940636221653cb3b": {
          "model_module": "@jupyter-widgets/controls",
          "model_module_version": "1.5.0",
          "model_name": "FloatProgressModel",
          "state": {
            "_dom_classes": [],
            "_model_module": "@jupyter-widgets/controls",
            "_model_module_version": "1.5.0",
            "_model_name": "FloatProgressModel",
            "_view_count": null,
            "_view_module": "@jupyter-widgets/controls",
            "_view_module_version": "1.5.0",
            "_view_name": "ProgressView",
            "bar_style": "success",
            "description": "",
            "description_tooltip": null,
            "layout": "IPY_MODEL_94a375bbb078426d8edfb17699752371",
            "max": 48,
            "min": 0,
            "orientation": "horizontal",
            "style": "IPY_MODEL_c5e752c10eee48dea8c67bb1a64a7b35",
            "value": 48
          }
        },
        "1c03cb4a75ab4cb58968c56829b78dcc": {
          "model_module": "@jupyter-widgets/controls",
          "model_module_version": "1.5.0",
          "model_name": "HBoxModel",
          "state": {
            "_dom_classes": [],
            "_model_module": "@jupyter-widgets/controls",
            "_model_module_version": "1.5.0",
            "_model_name": "HBoxModel",
            "_view_count": null,
            "_view_module": "@jupyter-widgets/controls",
            "_view_module_version": "1.5.0",
            "_view_name": "HBoxView",
            "box_style": "",
            "children": [
              "IPY_MODEL_0d329627a8814f1da87d5fc601d297f1",
              "IPY_MODEL_1be9ea1454204d34940636221653cb3b",
              "IPY_MODEL_bd4c84cba9a649f0ad4dffbc23ac920b"
            ],
            "layout": "IPY_MODEL_3861465c5245488b9e24958681c5daf0"
          }
        },
        "2fb49176c98d42bc98f673fccb632be0": {
          "model_module": "@jupyter-widgets/controls",
          "model_module_version": "1.5.0",
          "model_name": "ProgressStyleModel",
          "state": {
            "_model_module": "@jupyter-widgets/controls",
            "_model_module_version": "1.5.0",
            "_model_name": "ProgressStyleModel",
            "_view_count": null,
            "_view_module": "@jupyter-widgets/base",
            "_view_module_version": "1.2.0",
            "_view_name": "StyleView",
            "bar_color": null,
            "description_width": ""
          }
        },
        "31255f7771194fd78a063a5fbe0a155c": {
          "model_module": "@jupyter-widgets/controls",
          "model_module_version": "1.5.0",
          "model_name": "DescriptionStyleModel",
          "state": {
            "_model_module": "@jupyter-widgets/controls",
            "_model_module_version": "1.5.0",
            "_model_name": "DescriptionStyleModel",
            "_view_count": null,
            "_view_module": "@jupyter-widgets/base",
            "_view_module_version": "1.2.0",
            "_view_name": "StyleView",
            "description_width": ""
          }
        },
        "3861465c5245488b9e24958681c5daf0": {
          "model_module": "@jupyter-widgets/base",
          "model_module_version": "1.2.0",
          "model_name": "LayoutModel",
          "state": {
            "_model_module": "@jupyter-widgets/base",
            "_model_module_version": "1.2.0",
            "_model_name": "LayoutModel",
            "_view_count": null,
            "_view_module": "@jupyter-widgets/base",
            "_view_module_version": "1.2.0",
            "_view_name": "LayoutView",
            "align_content": null,
            "align_items": null,
            "align_self": null,
            "border": null,
            "bottom": null,
            "display": null,
            "flex": null,
            "flex_flow": null,
            "grid_area": null,
            "grid_auto_columns": null,
            "grid_auto_flow": null,
            "grid_auto_rows": null,
            "grid_column": null,
            "grid_gap": null,
            "grid_row": null,
            "grid_template_areas": null,
            "grid_template_columns": null,
            "grid_template_rows": null,
            "height": null,
            "justify_content": null,
            "justify_items": null,
            "left": null,
            "margin": null,
            "max_height": null,
            "max_width": null,
            "min_height": null,
            "min_width": null,
            "object_fit": null,
            "object_position": null,
            "order": null,
            "overflow": null,
            "overflow_x": null,
            "overflow_y": null,
            "padding": null,
            "right": null,
            "top": null,
            "visibility": null,
            "width": null
          }
        },
        "3b15bcf187504fc881500a159d4d478b": {
          "model_module": "@jupyter-widgets/controls",
          "model_module_version": "1.5.0",
          "model_name": "DescriptionStyleModel",
          "state": {
            "_model_module": "@jupyter-widgets/controls",
            "_model_module_version": "1.5.0",
            "_model_name": "DescriptionStyleModel",
            "_view_count": null,
            "_view_module": "@jupyter-widgets/base",
            "_view_module_version": "1.2.0",
            "_view_name": "StyleView",
            "description_width": ""
          }
        },
        "4a2aff0fb09e49d98b4687e99177e966": {
          "model_module": "@jupyter-widgets/base",
          "model_module_version": "1.2.0",
          "model_name": "LayoutModel",
          "state": {
            "_model_module": "@jupyter-widgets/base",
            "_model_module_version": "1.2.0",
            "_model_name": "LayoutModel",
            "_view_count": null,
            "_view_module": "@jupyter-widgets/base",
            "_view_module_version": "1.2.0",
            "_view_name": "LayoutView",
            "align_content": null,
            "align_items": null,
            "align_self": null,
            "border": null,
            "bottom": null,
            "display": null,
            "flex": null,
            "flex_flow": null,
            "grid_area": null,
            "grid_auto_columns": null,
            "grid_auto_flow": null,
            "grid_auto_rows": null,
            "grid_column": null,
            "grid_gap": null,
            "grid_row": null,
            "grid_template_areas": null,
            "grid_template_columns": null,
            "grid_template_rows": null,
            "height": null,
            "justify_content": null,
            "justify_items": null,
            "left": null,
            "margin": null,
            "max_height": null,
            "max_width": null,
            "min_height": null,
            "min_width": null,
            "object_fit": null,
            "object_position": null,
            "order": null,
            "overflow": null,
            "overflow_x": null,
            "overflow_y": null,
            "padding": null,
            "right": null,
            "top": null,
            "visibility": null,
            "width": null
          }
        },
        "4bbef3cab17541328c5bbba168818cb2": {
          "model_module": "@jupyter-widgets/controls",
          "model_module_version": "1.5.0",
          "model_name": "HBoxModel",
          "state": {
            "_dom_classes": [],
            "_model_module": "@jupyter-widgets/controls",
            "_model_module_version": "1.5.0",
            "_model_name": "HBoxModel",
            "_view_count": null,
            "_view_module": "@jupyter-widgets/controls",
            "_view_module_version": "1.5.0",
            "_view_name": "HBoxView",
            "box_style": "",
            "children": [
              "IPY_MODEL_605a9a083da94db79f223c34f7a92634",
              "IPY_MODEL_cdff88ab28564532a94e734983fac13a",
              "IPY_MODEL_ce4aef770eaa46d982d21f9546bfecf7"
            ],
            "layout": "IPY_MODEL_d0a82da1cedf48f3afcfc6454d62f5b5"
          }
        },
        "52d8445a815f412cb219f7aafcc504a2": {
          "model_module": "@jupyter-widgets/controls",
          "model_module_version": "1.5.0",
          "model_name": "ProgressStyleModel",
          "state": {
            "_model_module": "@jupyter-widgets/controls",
            "_model_module_version": "1.5.0",
            "_model_name": "ProgressStyleModel",
            "_view_count": null,
            "_view_module": "@jupyter-widgets/base",
            "_view_module_version": "1.2.0",
            "_view_name": "StyleView",
            "bar_color": null,
            "description_width": ""
          }
        },
        "5405919a0e0a4b859f8c627378ad8753": {
          "model_module": "@jupyter-widgets/base",
          "model_module_version": "1.2.0",
          "model_name": "LayoutModel",
          "state": {
            "_model_module": "@jupyter-widgets/base",
            "_model_module_version": "1.2.0",
            "_model_name": "LayoutModel",
            "_view_count": null,
            "_view_module": "@jupyter-widgets/base",
            "_view_module_version": "1.2.0",
            "_view_name": "LayoutView",
            "align_content": null,
            "align_items": null,
            "align_self": null,
            "border": null,
            "bottom": null,
            "display": null,
            "flex": null,
            "flex_flow": null,
            "grid_area": null,
            "grid_auto_columns": null,
            "grid_auto_flow": null,
            "grid_auto_rows": null,
            "grid_column": null,
            "grid_gap": null,
            "grid_row": null,
            "grid_template_areas": null,
            "grid_template_columns": null,
            "grid_template_rows": null,
            "height": null,
            "justify_content": null,
            "justify_items": null,
            "left": null,
            "margin": null,
            "max_height": null,
            "max_width": null,
            "min_height": null,
            "min_width": null,
            "object_fit": null,
            "object_position": null,
            "order": null,
            "overflow": null,
            "overflow_x": null,
            "overflow_y": null,
            "padding": null,
            "right": null,
            "top": null,
            "visibility": null,
            "width": null
          }
        },
        "54af7fde1bc34367a61d3d66d1d33d2a": {
          "model_module": "@jupyter-widgets/controls",
          "model_module_version": "1.5.0",
          "model_name": "HTMLModel",
          "state": {
            "_dom_classes": [],
            "_model_module": "@jupyter-widgets/controls",
            "_model_module_version": "1.5.0",
            "_model_name": "HTMLModel",
            "_view_count": null,
            "_view_module": "@jupyter-widgets/controls",
            "_view_module_version": "1.5.0",
            "_view_name": "HTMLView",
            "description": "",
            "description_tooltip": null,
            "layout": "IPY_MODEL_5fcc6f9dbc494351bbbc5d1dea0e6d08",
            "placeholder": "​",
            "style": "IPY_MODEL_f197000dfd9f4ac29256b81cd7b0f88a",
            "value": " 232k/232k [00:00&lt;00:00, 3.05MB/s]"
          }
        },
        "54f79fb3412a4ee6a131d7fb6721215b": {
          "model_module": "@jupyter-widgets/controls",
          "model_module_version": "1.5.0",
          "model_name": "DescriptionStyleModel",
          "state": {
            "_model_module": "@jupyter-widgets/controls",
            "_model_module_version": "1.5.0",
            "_model_name": "DescriptionStyleModel",
            "_view_count": null,
            "_view_module": "@jupyter-widgets/base",
            "_view_module_version": "1.2.0",
            "_view_name": "StyleView",
            "description_width": ""
          }
        },
        "5fcc6f9dbc494351bbbc5d1dea0e6d08": {
          "model_module": "@jupyter-widgets/base",
          "model_module_version": "1.2.0",
          "model_name": "LayoutModel",
          "state": {
            "_model_module": "@jupyter-widgets/base",
            "_model_module_version": "1.2.0",
            "_model_name": "LayoutModel",
            "_view_count": null,
            "_view_module": "@jupyter-widgets/base",
            "_view_module_version": "1.2.0",
            "_view_name": "LayoutView",
            "align_content": null,
            "align_items": null,
            "align_self": null,
            "border": null,
            "bottom": null,
            "display": null,
            "flex": null,
            "flex_flow": null,
            "grid_area": null,
            "grid_auto_columns": null,
            "grid_auto_flow": null,
            "grid_auto_rows": null,
            "grid_column": null,
            "grid_gap": null,
            "grid_row": null,
            "grid_template_areas": null,
            "grid_template_columns": null,
            "grid_template_rows": null,
            "height": null,
            "justify_content": null,
            "justify_items": null,
            "left": null,
            "margin": null,
            "max_height": null,
            "max_width": null,
            "min_height": null,
            "min_width": null,
            "object_fit": null,
            "object_position": null,
            "order": null,
            "overflow": null,
            "overflow_x": null,
            "overflow_y": null,
            "padding": null,
            "right": null,
            "top": null,
            "visibility": null,
            "width": null
          }
        },
        "605a9a083da94db79f223c34f7a92634": {
          "model_module": "@jupyter-widgets/controls",
          "model_module_version": "1.5.0",
          "model_name": "HTMLModel",
          "state": {
            "_dom_classes": [],
            "_model_module": "@jupyter-widgets/controls",
            "_model_module_version": "1.5.0",
            "_model_name": "HTMLModel",
            "_view_count": null,
            "_view_module": "@jupyter-widgets/controls",
            "_view_module_version": "1.5.0",
            "_view_name": "HTMLView",
            "description": "",
            "description_tooltip": null,
            "layout": "IPY_MODEL_855b4d21c30f4bb68774390c8ccffb0a",
            "placeholder": "​",
            "style": "IPY_MODEL_a00cd2785169462ba6e8408a2c8fa2c2",
            "value": "config.json: 100%"
          }
        },
        "6507309f9094475eb4ebc900ef96bc9e": {
          "model_module": "@jupyter-widgets/base",
          "model_module_version": "1.2.0",
          "model_name": "LayoutModel",
          "state": {
            "_model_module": "@jupyter-widgets/base",
            "_model_module_version": "1.2.0",
            "_model_name": "LayoutModel",
            "_view_count": null,
            "_view_module": "@jupyter-widgets/base",
            "_view_module_version": "1.2.0",
            "_view_name": "LayoutView",
            "align_content": null,
            "align_items": null,
            "align_self": null,
            "border": null,
            "bottom": null,
            "display": null,
            "flex": null,
            "flex_flow": null,
            "grid_area": null,
            "grid_auto_columns": null,
            "grid_auto_flow": null,
            "grid_auto_rows": null,
            "grid_column": null,
            "grid_gap": null,
            "grid_row": null,
            "grid_template_areas": null,
            "grid_template_columns": null,
            "grid_template_rows": null,
            "height": null,
            "justify_content": null,
            "justify_items": null,
            "left": null,
            "margin": null,
            "max_height": null,
            "max_width": null,
            "min_height": null,
            "min_width": null,
            "object_fit": null,
            "object_position": null,
            "order": null,
            "overflow": null,
            "overflow_x": null,
            "overflow_y": null,
            "padding": null,
            "right": null,
            "top": null,
            "visibility": null,
            "width": null
          }
        },
        "68d5bd68c5a8457eb10092a3965db170": {
          "model_module": "@jupyter-widgets/controls",
          "model_module_version": "1.5.0",
          "model_name": "ProgressStyleModel",
          "state": {
            "_model_module": "@jupyter-widgets/controls",
            "_model_module_version": "1.5.0",
            "_model_name": "ProgressStyleModel",
            "_view_count": null,
            "_view_module": "@jupyter-widgets/base",
            "_view_module_version": "1.2.0",
            "_view_name": "StyleView",
            "bar_color": null,
            "description_width": ""
          }
        },
        "782377568d2740088a53148c5b9965de": {
          "model_module": "@jupyter-widgets/controls",
          "model_module_version": "1.5.0",
          "model_name": "HTMLModel",
          "state": {
            "_dom_classes": [],
            "_model_module": "@jupyter-widgets/controls",
            "_model_module_version": "1.5.0",
            "_model_name": "HTMLModel",
            "_view_count": null,
            "_view_module": "@jupyter-widgets/controls",
            "_view_module_version": "1.5.0",
            "_view_name": "HTMLView",
            "description": "",
            "description_tooltip": null,
            "layout": "IPY_MODEL_bac10d60dbe94b92ba278080fe9c68d9",
            "placeholder": "​",
            "style": "IPY_MODEL_3b15bcf187504fc881500a159d4d478b",
            "value": "tokenizer.json: 100%"
          }
        },
        "855b4d21c30f4bb68774390c8ccffb0a": {
          "model_module": "@jupyter-widgets/base",
          "model_module_version": "1.2.0",
          "model_name": "LayoutModel",
          "state": {
            "_model_module": "@jupyter-widgets/base",
            "_model_module_version": "1.2.0",
            "_model_name": "LayoutModel",
            "_view_count": null,
            "_view_module": "@jupyter-widgets/base",
            "_view_module_version": "1.2.0",
            "_view_name": "LayoutView",
            "align_content": null,
            "align_items": null,
            "align_self": null,
            "border": null,
            "bottom": null,
            "display": null,
            "flex": null,
            "flex_flow": null,
            "grid_area": null,
            "grid_auto_columns": null,
            "grid_auto_flow": null,
            "grid_auto_rows": null,
            "grid_column": null,
            "grid_gap": null,
            "grid_row": null,
            "grid_template_areas": null,
            "grid_template_columns": null,
            "grid_template_rows": null,
            "height": null,
            "justify_content": null,
            "justify_items": null,
            "left": null,
            "margin": null,
            "max_height": null,
            "max_width": null,
            "min_height": null,
            "min_width": null,
            "object_fit": null,
            "object_position": null,
            "order": null,
            "overflow": null,
            "overflow_x": null,
            "overflow_y": null,
            "padding": null,
            "right": null,
            "top": null,
            "visibility": null,
            "width": null
          }
        },
        "889f34f938da4c76a4ea2e76cba0c284": {
          "model_module": "@jupyter-widgets/controls",
          "model_module_version": "1.5.0",
          "model_name": "HTMLModel",
          "state": {
            "_dom_classes": [],
            "_model_module": "@jupyter-widgets/controls",
            "_model_module_version": "1.5.0",
            "_model_name": "HTMLModel",
            "_view_count": null,
            "_view_module": "@jupyter-widgets/controls",
            "_view_module_version": "1.5.0",
            "_view_name": "HTMLView",
            "description": "",
            "description_tooltip": null,
            "layout": "IPY_MODEL_d24435f592cd49a6a1f9ea91320a0e96",
            "placeholder": "​",
            "style": "IPY_MODEL_16323910ebde4c8f9cb7ce23d6b9dad7",
            "value": "vocab.txt: 100%"
          }
        },
        "8ab667b245c9417db41ac4c936abb0ac": {
          "model_module": "@jupyter-widgets/controls",
          "model_module_version": "1.5.0",
          "model_name": "HBoxModel",
          "state": {
            "_dom_classes": [],
            "_model_module": "@jupyter-widgets/controls",
            "_model_module_version": "1.5.0",
            "_model_name": "HBoxModel",
            "_view_count": null,
            "_view_module": "@jupyter-widgets/controls",
            "_view_module_version": "1.5.0",
            "_view_name": "HBoxView",
            "box_style": "",
            "children": [
              "IPY_MODEL_782377568d2740088a53148c5b9965de",
              "IPY_MODEL_bb41d43a46654693a8357a077c92b25f",
              "IPY_MODEL_b09d58a670f24920bebc5438788eee65"
            ],
            "layout": "IPY_MODEL_8e2c778e0121497594db2f900f0801ac"
          }
        },
        "8b5a850961cb415fbf4e47bb76ce1d6c": {
          "model_module": "@jupyter-widgets/base",
          "model_module_version": "1.2.0",
          "model_name": "LayoutModel",
          "state": {
            "_model_module": "@jupyter-widgets/base",
            "_model_module_version": "1.2.0",
            "_model_name": "LayoutModel",
            "_view_count": null,
            "_view_module": "@jupyter-widgets/base",
            "_view_module_version": "1.2.0",
            "_view_name": "LayoutView",
            "align_content": null,
            "align_items": null,
            "align_self": null,
            "border": null,
            "bottom": null,
            "display": null,
            "flex": null,
            "flex_flow": null,
            "grid_area": null,
            "grid_auto_columns": null,
            "grid_auto_flow": null,
            "grid_auto_rows": null,
            "grid_column": null,
            "grid_gap": null,
            "grid_row": null,
            "grid_template_areas": null,
            "grid_template_columns": null,
            "grid_template_rows": null,
            "height": null,
            "justify_content": null,
            "justify_items": null,
            "left": null,
            "margin": null,
            "max_height": null,
            "max_width": null,
            "min_height": null,
            "min_width": null,
            "object_fit": null,
            "object_position": null,
            "order": null,
            "overflow": null,
            "overflow_x": null,
            "overflow_y": null,
            "padding": null,
            "right": null,
            "top": null,
            "visibility": null,
            "width": null
          }
        },
        "8e2c778e0121497594db2f900f0801ac": {
          "model_module": "@jupyter-widgets/base",
          "model_module_version": "1.2.0",
          "model_name": "LayoutModel",
          "state": {
            "_model_module": "@jupyter-widgets/base",
            "_model_module_version": "1.2.0",
            "_model_name": "LayoutModel",
            "_view_count": null,
            "_view_module": "@jupyter-widgets/base",
            "_view_module_version": "1.2.0",
            "_view_name": "LayoutView",
            "align_content": null,
            "align_items": null,
            "align_self": null,
            "border": null,
            "bottom": null,
            "display": null,
            "flex": null,
            "flex_flow": null,
            "grid_area": null,
            "grid_auto_columns": null,
            "grid_auto_flow": null,
            "grid_auto_rows": null,
            "grid_column": null,
            "grid_gap": null,
            "grid_row": null,
            "grid_template_areas": null,
            "grid_template_columns": null,
            "grid_template_rows": null,
            "height": null,
            "justify_content": null,
            "justify_items": null,
            "left": null,
            "margin": null,
            "max_height": null,
            "max_width": null,
            "min_height": null,
            "min_width": null,
            "object_fit": null,
            "object_position": null,
            "order": null,
            "overflow": null,
            "overflow_x": null,
            "overflow_y": null,
            "padding": null,
            "right": null,
            "top": null,
            "visibility": null,
            "width": null
          }
        },
        "94a375bbb078426d8edfb17699752371": {
          "model_module": "@jupyter-widgets/base",
          "model_module_version": "1.2.0",
          "model_name": "LayoutModel",
          "state": {
            "_model_module": "@jupyter-widgets/base",
            "_model_module_version": "1.2.0",
            "_model_name": "LayoutModel",
            "_view_count": null,
            "_view_module": "@jupyter-widgets/base",
            "_view_module_version": "1.2.0",
            "_view_name": "LayoutView",
            "align_content": null,
            "align_items": null,
            "align_self": null,
            "border": null,
            "bottom": null,
            "display": null,
            "flex": null,
            "flex_flow": null,
            "grid_area": null,
            "grid_auto_columns": null,
            "grid_auto_flow": null,
            "grid_auto_rows": null,
            "grid_column": null,
            "grid_gap": null,
            "grid_row": null,
            "grid_template_areas": null,
            "grid_template_columns": null,
            "grid_template_rows": null,
            "height": null,
            "justify_content": null,
            "justify_items": null,
            "left": null,
            "margin": null,
            "max_height": null,
            "max_width": null,
            "min_height": null,
            "min_width": null,
            "object_fit": null,
            "object_position": null,
            "order": null,
            "overflow": null,
            "overflow_x": null,
            "overflow_y": null,
            "padding": null,
            "right": null,
            "top": null,
            "visibility": null,
            "width": null
          }
        },
        "a00cd2785169462ba6e8408a2c8fa2c2": {
          "model_module": "@jupyter-widgets/controls",
          "model_module_version": "1.5.0",
          "model_name": "DescriptionStyleModel",
          "state": {
            "_model_module": "@jupyter-widgets/controls",
            "_model_module_version": "1.5.0",
            "_model_name": "DescriptionStyleModel",
            "_view_count": null,
            "_view_module": "@jupyter-widgets/base",
            "_view_module_version": "1.2.0",
            "_view_name": "StyleView",
            "description_width": ""
          }
        },
        "b09d58a670f24920bebc5438788eee65": {
          "model_module": "@jupyter-widgets/controls",
          "model_module_version": "1.5.0",
          "model_name": "HTMLModel",
          "state": {
            "_dom_classes": [],
            "_model_module": "@jupyter-widgets/controls",
            "_model_module_version": "1.5.0",
            "_model_name": "HTMLModel",
            "_view_count": null,
            "_view_module": "@jupyter-widgets/controls",
            "_view_module_version": "1.5.0",
            "_view_name": "HTMLView",
            "description": "",
            "description_tooltip": null,
            "layout": "IPY_MODEL_f8aae48142724f9c91f691c925bd725a",
            "placeholder": "​",
            "style": "IPY_MODEL_31255f7771194fd78a063a5fbe0a155c",
            "value": " 466k/466k [00:00&lt;00:00, 13.3MB/s]"
          }
        },
        "bac10d60dbe94b92ba278080fe9c68d9": {
          "model_module": "@jupyter-widgets/base",
          "model_module_version": "1.2.0",
          "model_name": "LayoutModel",
          "state": {
            "_model_module": "@jupyter-widgets/base",
            "_model_module_version": "1.2.0",
            "_model_name": "LayoutModel",
            "_view_count": null,
            "_view_module": "@jupyter-widgets/base",
            "_view_module_version": "1.2.0",
            "_view_name": "LayoutView",
            "align_content": null,
            "align_items": null,
            "align_self": null,
            "border": null,
            "bottom": null,
            "display": null,
            "flex": null,
            "flex_flow": null,
            "grid_area": null,
            "grid_auto_columns": null,
            "grid_auto_flow": null,
            "grid_auto_rows": null,
            "grid_column": null,
            "grid_gap": null,
            "grid_row": null,
            "grid_template_areas": null,
            "grid_template_columns": null,
            "grid_template_rows": null,
            "height": null,
            "justify_content": null,
            "justify_items": null,
            "left": null,
            "margin": null,
            "max_height": null,
            "max_width": null,
            "min_height": null,
            "min_width": null,
            "object_fit": null,
            "object_position": null,
            "order": null,
            "overflow": null,
            "overflow_x": null,
            "overflow_y": null,
            "padding": null,
            "right": null,
            "top": null,
            "visibility": null,
            "width": null
          }
        },
        "bb41d43a46654693a8357a077c92b25f": {
          "model_module": "@jupyter-widgets/controls",
          "model_module_version": "1.5.0",
          "model_name": "FloatProgressModel",
          "state": {
            "_dom_classes": [],
            "_model_module": "@jupyter-widgets/controls",
            "_model_module_version": "1.5.0",
            "_model_name": "FloatProgressModel",
            "_view_count": null,
            "_view_module": "@jupyter-widgets/controls",
            "_view_module_version": "1.5.0",
            "_view_name": "ProgressView",
            "bar_style": "success",
            "description": "",
            "description_tooltip": null,
            "layout": "IPY_MODEL_6507309f9094475eb4ebc900ef96bc9e",
            "max": 466062,
            "min": 0,
            "orientation": "horizontal",
            "style": "IPY_MODEL_2fb49176c98d42bc98f673fccb632be0",
            "value": 466062
          }
        },
        "bd4c84cba9a649f0ad4dffbc23ac920b": {
          "model_module": "@jupyter-widgets/controls",
          "model_module_version": "1.5.0",
          "model_name": "HTMLModel",
          "state": {
            "_dom_classes": [],
            "_model_module": "@jupyter-widgets/controls",
            "_model_module_version": "1.5.0",
            "_model_name": "HTMLModel",
            "_view_count": null,
            "_view_module": "@jupyter-widgets/controls",
            "_view_module_version": "1.5.0",
            "_view_name": "HTMLView",
            "description": "",
            "description_tooltip": null,
            "layout": "IPY_MODEL_4a2aff0fb09e49d98b4687e99177e966",
            "placeholder": "​",
            "style": "IPY_MODEL_54f79fb3412a4ee6a131d7fb6721215b",
            "value": " 48.0/48.0 [00:00&lt;00:00, 2.69kB/s]"
          }
        },
        "c39b08a3d3f94a67970ee5c19ddfbc4f": {
          "model_module": "@jupyter-widgets/controls",
          "model_module_version": "1.5.0",
          "model_name": "DescriptionStyleModel",
          "state": {
            "_model_module": "@jupyter-widgets/controls",
            "_model_module_version": "1.5.0",
            "_model_name": "DescriptionStyleModel",
            "_view_count": null,
            "_view_module": "@jupyter-widgets/base",
            "_view_module_version": "1.2.0",
            "_view_name": "StyleView",
            "description_width": ""
          }
        },
        "c5e752c10eee48dea8c67bb1a64a7b35": {
          "model_module": "@jupyter-widgets/controls",
          "model_module_version": "1.5.0",
          "model_name": "ProgressStyleModel",
          "state": {
            "_model_module": "@jupyter-widgets/controls",
            "_model_module_version": "1.5.0",
            "_model_name": "ProgressStyleModel",
            "_view_count": null,
            "_view_module": "@jupyter-widgets/base",
            "_view_module_version": "1.2.0",
            "_view_name": "StyleView",
            "bar_color": null,
            "description_width": ""
          }
        },
        "cc418ee1ec224cd4aad848e8b7884ac5": {
          "model_module": "@jupyter-widgets/base",
          "model_module_version": "1.2.0",
          "model_name": "LayoutModel",
          "state": {
            "_model_module": "@jupyter-widgets/base",
            "_model_module_version": "1.2.0",
            "_model_name": "LayoutModel",
            "_view_count": null,
            "_view_module": "@jupyter-widgets/base",
            "_view_module_version": "1.2.0",
            "_view_name": "LayoutView",
            "align_content": null,
            "align_items": null,
            "align_self": null,
            "border": null,
            "bottom": null,
            "display": null,
            "flex": null,
            "flex_flow": null,
            "grid_area": null,
            "grid_auto_columns": null,
            "grid_auto_flow": null,
            "grid_auto_rows": null,
            "grid_column": null,
            "grid_gap": null,
            "grid_row": null,
            "grid_template_areas": null,
            "grid_template_columns": null,
            "grid_template_rows": null,
            "height": null,
            "justify_content": null,
            "justify_items": null,
            "left": null,
            "margin": null,
            "max_height": null,
            "max_width": null,
            "min_height": null,
            "min_width": null,
            "object_fit": null,
            "object_position": null,
            "order": null,
            "overflow": null,
            "overflow_x": null,
            "overflow_y": null,
            "padding": null,
            "right": null,
            "top": null,
            "visibility": null,
            "width": null
          }
        },
        "cdff88ab28564532a94e734983fac13a": {
          "model_module": "@jupyter-widgets/controls",
          "model_module_version": "1.5.0",
          "model_name": "FloatProgressModel",
          "state": {
            "_dom_classes": [],
            "_model_module": "@jupyter-widgets/controls",
            "_model_module_version": "1.5.0",
            "_model_name": "FloatProgressModel",
            "_view_count": null,
            "_view_module": "@jupyter-widgets/controls",
            "_view_module_version": "1.5.0",
            "_view_name": "ProgressView",
            "bar_style": "success",
            "description": "",
            "description_tooltip": null,
            "layout": "IPY_MODEL_147dcde1577e4bf49b71c454ec3941e5",
            "max": 570,
            "min": 0,
            "orientation": "horizontal",
            "style": "IPY_MODEL_52d8445a815f412cb219f7aafcc504a2",
            "value": 570
          }
        },
        "ce4aef770eaa46d982d21f9546bfecf7": {
          "model_module": "@jupyter-widgets/controls",
          "model_module_version": "1.5.0",
          "model_name": "HTMLModel",
          "state": {
            "_dom_classes": [],
            "_model_module": "@jupyter-widgets/controls",
            "_model_module_version": "1.5.0",
            "_model_name": "HTMLModel",
            "_view_count": null,
            "_view_module": "@jupyter-widgets/controls",
            "_view_module_version": "1.5.0",
            "_view_name": "HTMLView",
            "description": "",
            "description_tooltip": null,
            "layout": "IPY_MODEL_8b5a850961cb415fbf4e47bb76ce1d6c",
            "placeholder": "​",
            "style": "IPY_MODEL_0327a8178ad14d0b93aa81af731e7a8d",
            "value": " 570/570 [00:00&lt;00:00, 22.7kB/s]"
          }
        },
        "d04f4d89d33746efabdb64ad77004027": {
          "model_module": "@jupyter-widgets/base",
          "model_module_version": "1.2.0",
          "model_name": "LayoutModel",
          "state": {
            "_model_module": "@jupyter-widgets/base",
            "_model_module_version": "1.2.0",
            "_model_name": "LayoutModel",
            "_view_count": null,
            "_view_module": "@jupyter-widgets/base",
            "_view_module_version": "1.2.0",
            "_view_name": "LayoutView",
            "align_content": null,
            "align_items": null,
            "align_self": null,
            "border": null,
            "bottom": null,
            "display": null,
            "flex": null,
            "flex_flow": null,
            "grid_area": null,
            "grid_auto_columns": null,
            "grid_auto_flow": null,
            "grid_auto_rows": null,
            "grid_column": null,
            "grid_gap": null,
            "grid_row": null,
            "grid_template_areas": null,
            "grid_template_columns": null,
            "grid_template_rows": null,
            "height": null,
            "justify_content": null,
            "justify_items": null,
            "left": null,
            "margin": null,
            "max_height": null,
            "max_width": null,
            "min_height": null,
            "min_width": null,
            "object_fit": null,
            "object_position": null,
            "order": null,
            "overflow": null,
            "overflow_x": null,
            "overflow_y": null,
            "padding": null,
            "right": null,
            "top": null,
            "visibility": null,
            "width": null
          }
        },
        "d0a82da1cedf48f3afcfc6454d62f5b5": {
          "model_module": "@jupyter-widgets/base",
          "model_module_version": "1.2.0",
          "model_name": "LayoutModel",
          "state": {
            "_model_module": "@jupyter-widgets/base",
            "_model_module_version": "1.2.0",
            "_model_name": "LayoutModel",
            "_view_count": null,
            "_view_module": "@jupyter-widgets/base",
            "_view_module_version": "1.2.0",
            "_view_name": "LayoutView",
            "align_content": null,
            "align_items": null,
            "align_self": null,
            "border": null,
            "bottom": null,
            "display": null,
            "flex": null,
            "flex_flow": null,
            "grid_area": null,
            "grid_auto_columns": null,
            "grid_auto_flow": null,
            "grid_auto_rows": null,
            "grid_column": null,
            "grid_gap": null,
            "grid_row": null,
            "grid_template_areas": null,
            "grid_template_columns": null,
            "grid_template_rows": null,
            "height": null,
            "justify_content": null,
            "justify_items": null,
            "left": null,
            "margin": null,
            "max_height": null,
            "max_width": null,
            "min_height": null,
            "min_width": null,
            "object_fit": null,
            "object_position": null,
            "order": null,
            "overflow": null,
            "overflow_x": null,
            "overflow_y": null,
            "padding": null,
            "right": null,
            "top": null,
            "visibility": null,
            "width": null
          }
        },
        "d24435f592cd49a6a1f9ea91320a0e96": {
          "model_module": "@jupyter-widgets/base",
          "model_module_version": "1.2.0",
          "model_name": "LayoutModel",
          "state": {
            "_model_module": "@jupyter-widgets/base",
            "_model_module_version": "1.2.0",
            "_model_name": "LayoutModel",
            "_view_count": null,
            "_view_module": "@jupyter-widgets/base",
            "_view_module_version": "1.2.0",
            "_view_name": "LayoutView",
            "align_content": null,
            "align_items": null,
            "align_self": null,
            "border": null,
            "bottom": null,
            "display": null,
            "flex": null,
            "flex_flow": null,
            "grid_area": null,
            "grid_auto_columns": null,
            "grid_auto_flow": null,
            "grid_auto_rows": null,
            "grid_column": null,
            "grid_gap": null,
            "grid_row": null,
            "grid_template_areas": null,
            "grid_template_columns": null,
            "grid_template_rows": null,
            "height": null,
            "justify_content": null,
            "justify_items": null,
            "left": null,
            "margin": null,
            "max_height": null,
            "max_width": null,
            "min_height": null,
            "min_width": null,
            "object_fit": null,
            "object_position": null,
            "order": null,
            "overflow": null,
            "overflow_x": null,
            "overflow_y": null,
            "padding": null,
            "right": null,
            "top": null,
            "visibility": null,
            "width": null
          }
        },
        "d5556c0e6c0e4df1a4fda59899928b9c": {
          "model_module": "@jupyter-widgets/controls",
          "model_module_version": "1.5.0",
          "model_name": "FloatProgressModel",
          "state": {
            "_dom_classes": [],
            "_model_module": "@jupyter-widgets/controls",
            "_model_module_version": "1.5.0",
            "_model_name": "FloatProgressModel",
            "_view_count": null,
            "_view_module": "@jupyter-widgets/controls",
            "_view_module_version": "1.5.0",
            "_view_name": "ProgressView",
            "bar_style": "success",
            "description": "",
            "description_tooltip": null,
            "layout": "IPY_MODEL_cc418ee1ec224cd4aad848e8b7884ac5",
            "max": 231508,
            "min": 0,
            "orientation": "horizontal",
            "style": "IPY_MODEL_68d5bd68c5a8457eb10092a3965db170",
            "value": 231508
          }
        },
        "db8b892040ef490f84a1090874cbdf1c": {
          "model_module": "@jupyter-widgets/controls",
          "model_module_version": "1.5.0",
          "model_name": "HBoxModel",
          "state": {
            "_dom_classes": [],
            "_model_module": "@jupyter-widgets/controls",
            "_model_module_version": "1.5.0",
            "_model_name": "HBoxModel",
            "_view_count": null,
            "_view_module": "@jupyter-widgets/controls",
            "_view_module_version": "1.5.0",
            "_view_name": "HBoxView",
            "box_style": "",
            "children": [
              "IPY_MODEL_889f34f938da4c76a4ea2e76cba0c284",
              "IPY_MODEL_d5556c0e6c0e4df1a4fda59899928b9c",
              "IPY_MODEL_54af7fde1bc34367a61d3d66d1d33d2a"
            ],
            "layout": "IPY_MODEL_5405919a0e0a4b859f8c627378ad8753"
          }
        },
        "f197000dfd9f4ac29256b81cd7b0f88a": {
          "model_module": "@jupyter-widgets/controls",
          "model_module_version": "1.5.0",
          "model_name": "DescriptionStyleModel",
          "state": {
            "_model_module": "@jupyter-widgets/controls",
            "_model_module_version": "1.5.0",
            "_model_name": "DescriptionStyleModel",
            "_view_count": null,
            "_view_module": "@jupyter-widgets/base",
            "_view_module_version": "1.2.0",
            "_view_name": "StyleView",
            "description_width": ""
          }
        },
        "f8aae48142724f9c91f691c925bd725a": {
          "model_module": "@jupyter-widgets/base",
          "model_module_version": "1.2.0",
          "model_name": "LayoutModel",
          "state": {
            "_model_module": "@jupyter-widgets/base",
            "_model_module_version": "1.2.0",
            "_model_name": "LayoutModel",
            "_view_count": null,
            "_view_module": "@jupyter-widgets/base",
            "_view_module_version": "1.2.0",
            "_view_name": "LayoutView",
            "align_content": null,
            "align_items": null,
            "align_self": null,
            "border": null,
            "bottom": null,
            "display": null,
            "flex": null,
            "flex_flow": null,
            "grid_area": null,
            "grid_auto_columns": null,
            "grid_auto_flow": null,
            "grid_auto_rows": null,
            "grid_column": null,
            "grid_gap": null,
            "grid_row": null,
            "grid_template_areas": null,
            "grid_template_columns": null,
            "grid_template_rows": null,
            "height": null,
            "justify_content": null,
            "justify_items": null,
            "left": null,
            "margin": null,
            "max_height": null,
            "max_width": null,
            "min_height": null,
            "min_width": null,
            "object_fit": null,
            "object_position": null,
            "order": null,
            "overflow": null,
            "overflow_x": null,
            "overflow_y": null,
            "padding": null,
            "right": null,
            "top": null,
            "visibility": null,
            "width": null
          }
        }
      }
    }
  },
  "nbformat": 4,
  "nbformat_minor": 0
}
