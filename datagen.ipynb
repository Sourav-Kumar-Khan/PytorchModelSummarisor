{
  "cells": [
    {
      "cell_type": "code",
      "execution_count": null,
      "metadata": {
        "colab": {
          "base_uri": "https://localhost:8080/"
        },
        "id": "-5uB0ilxyaux",
        "outputId": "cb803426-e518-47dd-ac80-85be8d4f1116"
      },
      "outputs": [],
      "source": [
        "import torch\n",
        "import torch.nn as nn\n",
        "import random\n",
        "\n",
        "def generate_random_network():\n",
        "    layers = []\n",
        "    input_channels = random.randint(1, 3)\n",
        "    input_size = random.randint(32, 224)\n",
        "    output_size = random.randint(1, 10)\n",
        "    num_layers = random.randint(2, 5)\n",
        "\n",
        "    current_channels = input_channels\n",
        "    current_size = input_size\n",
        "\n",
        "    for i in range(num_layers):\n",
        "        # Randomly choose layer type\n",
        "        layer_type = random.choice(['linear', 'conv1d', 'conv2d'] if i < num_layers - 1 else ['linear'])\n",
        "\n",
        "        if layer_type == 'linear':\n",
        "            if i == 0:\n",
        "                in_features = current_channels * current_size * current_size\n",
        "            else:\n",
        "                in_features = get_output_features(layers[-1], current_channels, current_size)\n",
        "            out_features = random.randint(10, 200) if i < num_layers - 1 else output_size\n",
        "            layers.append(nn.Linear(in_features, out_features))\n",
        "            current_channels = 1\n",
        "            current_size = out_features\n",
        "        elif layer_type == 'conv1d':\n",
        "            out_channels = random.randint(16, 64)\n",
        "            layers.append(nn.Conv1d(current_channels, out_channels, kernel_size=3, padding=1))\n",
        "            current_channels = out_channels\n",
        "        elif layer_type == 'conv2d':\n",
        "            out_channels = random.randint(16, 64)\n",
        "            layers.append(nn.Conv2d(current_channels, out_channels, kernel_size=3, padding=1))\n",
        "            current_channels = out_channels\n",
        "\n",
        "        # Randomly add normalization\n",
        "        if random.choice([True, False]):\n",
        "            if layer_type == 'linear':\n",
        "                layers.append(nn.BatchNorm1d(out_features))\n",
        "            elif layer_type == 'conv1d':\n",
        "                layers.append(nn.BatchNorm1d(out_channels))\n",
        "            elif layer_type == 'conv2d':\n",
        "                layers.append(nn.BatchNorm2d(out_channels))\n",
        "\n",
        "        # Randomly add activation functions\n",
        "        if random.choice([True, False]):\n",
        "            layers.append(random.choice([nn.ReLU(), nn.LeakyReLU(), nn.Tanh(), nn.Sigmoid()]))\n",
        "\n",
        "        # Randomly add dropout\n",
        "        if random.choice([True, False]):\n",
        "            layers.append(nn.Dropout(p=random.uniform(0.1, 0.5)))\n",
        "\n",
        "    # Ensure the last layer is Linear and outputs the correct size\n",
        "    if not isinstance(layers[-1], nn.Linear) or layers[-1].out_features != output_size:\n",
        "        in_features = get_output_features(layers[-1], current_channels, current_size)\n",
        "        layers.append(nn.Linear(in_features, output_size))\n",
        "\n",
        "    return nn.Sequential(*layers)\n",
        "\n",
        "def get_output_features(layer, current_channels, current_size):\n",
        "    if isinstance(layer, nn.Linear):\n",
        "        return layer.out_features\n",
        "    elif isinstance(layer, (nn.Conv1d, nn.Conv2d)):\n",
        "        return layer.out_channels\n",
        "    elif isinstance(layer, (nn.BatchNorm1d, nn.BatchNorm2d)):\n",
        "        return layer.num_features\n",
        "    elif isinstance(layer, (nn.ReLU, nn.LeakyReLU, nn.Tanh, nn.Sigmoid, nn.Dropout)):\n",
        "        return current_channels * current_size * current_size\n",
        "    else:\n",
        "        raise ValueError(f\"Unsupported layer type: {type(layer)}\")\n",
        "\n",
        "# Test the function\n",
        "try:\n",
        "    model = generate_random_network()\n",
        "    print(model)\n",
        "except Exception as e:\n",
        "    print(f\"An error occurred: {e}\")"
      ]
    },
    {
      "cell_type": "code",
      "execution_count": null,
      "metadata": {
        "colab": {
          "base_uri": "https://localhost:8080/"
        },
        "id": "JQhZ5dOmyeC5",
        "outputId": "d85324ac-c2df-425d-e62b-be76c8e190a1"
      },
      "outputs": [],
      "source": [
        "def generate_description(model):\n",
        "    layers = list(model.children())\n",
        "\n",
        "    # Determine input shape\n",
        "    first_layer = layers[0]\n",
        "    if isinstance(first_layer, nn.Linear):\n",
        "        input_shape = f\"b,{first_layer.in_features}\"\n",
        "    elif isinstance(first_layer, nn.Conv1d):\n",
        "        input_shape = f\"b,{first_layer.in_channels},w\"\n",
        "    elif isinstance(first_layer, nn.Conv2d):\n",
        "        input_shape = f\"b,{first_layer.in_channels},h,w\"\n",
        "    else:\n",
        "        input_shape = \"unknown\"\n",
        "\n",
        "    # Determine output shape\n",
        "    last_layer = next((layer for layer in reversed(layers) if isinstance(layer, nn.Linear)), None)\n",
        "    if last_layer:\n",
        "        output_shape = f\"b,{last_layer.out_features}\"\n",
        "    else:\n",
        "        output_shape = \"unknown\"\n",
        "\n",
        "    description = f\"This neural network takes an input of shape ({input_shape}) \"\n",
        "    description += f\"and produces an output of shape ({output_shape}). \"\n",
        "    description += f\"It consists of {len(layers)} layers, including \"\n",
        "\n",
        "    layer_descriptions = []\n",
        "    for layer in layers:\n",
        "        if isinstance(layer, nn.Linear):\n",
        "            layer_descriptions.append(f\"a Linear layer ({layer.in_features} -> {layer.out_features})\")\n",
        "        elif isinstance(layer, nn.Conv1d):\n",
        "            layer_descriptions.append(f\"a 1D Convolutional layer ({layer.in_channels} -> {layer.out_channels}, kernel_size={layer.kernel_size[0]})\")\n",
        "        elif isinstance(layer, nn.Conv2d):\n",
        "            layer_descriptions.append(f\"a 2D Convolutional layer ({layer.in_channels} -> {layer.out_channels}, kernel_size={layer.kernel_size})\")\n",
        "        elif isinstance(layer, nn.BatchNorm1d):\n",
        "            layer_descriptions.append(f\"a 1D Batch Normalization (num_features={layer.num_features})\")\n",
        "        elif isinstance(layer, nn.BatchNorm2d):\n",
        "            layer_descriptions.append(f\"a 2D Batch Normalization (num_features={layer.num_features})\")\n",
        "        elif isinstance(layer, nn.ReLU):\n",
        "            layer_descriptions.append(\"a ReLU activation\")\n",
        "        elif isinstance(layer, nn.LeakyReLU):\n",
        "            layer_descriptions.append(f\"a Leaky ReLU activation (negative_slope={layer.negative_slope:.2f})\")\n",
        "        elif isinstance(layer, nn.Tanh):\n",
        "            layer_descriptions.append(\"a Tanh activation\")\n",
        "        elif isinstance(layer, nn.Sigmoid):\n",
        "            layer_descriptions.append(\"a Sigmoid activation\")\n",
        "        elif isinstance(layer, nn.Dropout):\n",
        "            layer_descriptions.append(f\"a Dropout layer (p={layer.p:.2f})\")\n",
        "        else:\n",
        "            layer_descriptions.append(f\"an unknown layer type: {type(layer).__name__}\")\n",
        "\n",
        "    description += \", \".join(layer_descriptions) + \".\"\n",
        "    return description\n",
        "\n",
        "# Example usage:\n",
        "model = generate_random_network()\n",
        "description = generate_description(model)\n",
        "print(description)"
      ]
    },
    {
      "cell_type": "code",
      "execution_count": null,
      "metadata": {},
      "outputs": [],
      "source": [
        "list(model.children())"
      ]
    },
    {
      "cell_type": "code",
      "execution_count": null,
      "metadata": {
        "id": "ory2GcyiyiJS"
      },
      "outputs": [],
      "source": [
        "import gc\n",
        "def generate_dataset(num_samples):\n",
        "    dataset = []\n",
        "    for _ in range(num_samples):\n",
        "        model = generate_random_network()\n",
        "        description = generate_description(model)\n",
        "        dataset.append((str(model), description))\n",
        "        # Explicitly delete variables and run garbage collection\n",
        "        del model\n",
        "        del description\n",
        "        gc.collect()\n",
        "    return dataset\n",
        "\n",
        "# Generate samples dataset\n",
        "# sample_df = generate_dataset(1000)"
      ]
    },
    {
      "cell_type": "code",
      "execution_count": null,
      "metadata": {
        "colab": {
          "base_uri": "https://localhost:8080/"
        },
        "id": "QsUJGpgt55V7",
        "outputId": "8a67eee3-8dd4-4d76-89c5-aeb8f31d537e"
      },
      "outputs": [],
      "source": [
        "sample_df[0]"
      ]
    },
    {
      "cell_type": "code",
      "execution_count": null,
      "metadata": {
        "colab": {
          "base_uri": "https://localhost:8080/"
        },
        "id": "R1b8uxaR6Rdo",
        "outputId": "d9be1166-4bed-4fa3-cbea-6a9c92be0f79"
      },
      "outputs": [],
      "source": [
        "type(sample_df[0])"
      ]
    },
    {
      "cell_type": "code",
      "execution_count": null,
      "metadata": {
        "id": "_Q4-WNK45kU3"
      },
      "outputs": [],
      "source": [
        "import pickle\n",
        "\n",
        "def save_dataset(dataset, filename):\n",
        "    with open(filename, 'wb') as f:\n",
        "        pickle.dump(dataset, f)\n",
        "\n",
        "save_dataset(sample_df, 'neural_network_dataset.pkl')"
      ]
    },
    {
      "cell_type": "code",
      "execution_count": null,
      "metadata": {
        "colab": {
          "base_uri": "https://localhost:8080/"
        },
        "id": "ukHTSQw0xLhv",
        "outputId": "16e45a24-5346-4f3b-f06d-0fa0f23b58e9"
      },
      "outputs": [],
      "source": [
        "!ls -al"
      ]
    },
    {
      "cell_type": "code",
      "execution_count": null,
      "metadata": {
        "colab": {
          "base_uri": "https://localhost:8080/"
        },
        "collapsed": true,
        "id": "DCrSzOxzcqij",
        "outputId": "705b7217-eece-4629-f882-64bda121938c"
      },
      "outputs": [],
      "source": [
        "!pip install transformers"
      ]
    },
    {
      "cell_type": "code",
      "execution_count": null,
      "metadata": {
        "id": "TPTjF2ptb5v8"
      },
      "outputs": [],
      "source": [
        "import torch\n",
        "import torch.nn as nn\n",
        "import torch.optim as optim\n",
        "from torch.utils.data import DataLoader, Dataset\n",
        "\n",
        "class TransformerSeq2Seq(nn.Module):\n",
        "    def __init__(self, input_dim, output_dim, d_model=512, nhead=8, num_encoder_layers=6, num_decoder_layers=6, dim_feedforward=2048, dropout=0.1):\n",
        "        super(TransformerSeq2Seq, self).__init__()\n",
        "        self.transformer = nn.Transformer(d_model, nhead, num_encoder_layers, num_decoder_layers, dim_feedforward, dropout)\n",
        "        self.fc_out = nn.Linear(d_model, output_dim)\n",
        "        self.src_tok_emb = nn.Embedding(input_dim, d_model)\n",
        "        self.tgt_tok_emb = nn.Embedding(output_dim, d_model)\n",
        "        self.positional_encoding = nn.Embedding(5000, d_model)\n",
        "\n",
        "    def forward(self, src, tgt):\n",
        "        src_seq_len, N = src.shape\n",
        "        tgt_seq_len, N = tgt.shape\n",
        "\n",
        "        src_positions = (\n",
        "            torch.arange(0, src_seq_len).unsqueeze(1).expand(src_seq_len, N).to(src.device)\n",
        "        )\n",
        "        tgt_positions = (\n",
        "            torch.arange(0, tgt_seq_len).unsqueeze(1).expand(tgt_seq_len, N).to(tgt.device)\n",
        "        )\n",
        "\n",
        "        embed_src = self.src_tok_emb(src) + self.positional_encoding(src_positions)\n",
        "        embed_tgt = self.tgt_tok_emb(tgt) + self.positional_encoding(tgt_positions)\n",
        "\n",
        "        transformer_out = self.transformer(embed_src, embed_tgt)\n",
        "        out = self.fc_out(transformer_out)\n",
        "\n",
        "        return out\n",
        "\n"
      ]
    },
    {
      "cell_type": "code",
      "execution_count": null,
      "metadata": {},
      "outputs": [],
      "source": [
        "!pip install transformers"
      ]
    },
    {
      "cell_type": "code",
      "execution_count": null,
      "metadata": {
        "colab": {
          "base_uri": "https://localhost:8080/"
        },
        "id": "V-1rgVoefXSx",
        "outputId": "488ba2a3-bbc5-4df9-d7c2-00236c9cecaf"
      },
      "outputs": [],
      "source": [
        "from transformers import BertTokenizer\n",
        "\n",
        "# Initialize the tokenizer\n",
        "tokenizer = BertTokenizer.from_pretrained('bert-base-uncased')\n",
        "\n",
        "# Example input and output\n",
        "example_input = \"Sequential((0): Linear(in_features=38809, out_features=26, bias=True) (1): LeakyReLU(negative_slope=0.01) (2): Linear(in_features=676, out_features=183, bias=True) (3): BatchNorm1d(183, eps=1e-05, momentum=0.1, affine=True, track_running_stats=True) (4): LeakyReLU(negative_slope=0.01) (5): Conv2d(1, 25, kernel_size=(3, 3), stride=(1, 1), padding=(1, 1)) (6): Dropout(p=0.11890518865721189, inplace=False) (7): Linear(in_features=837225, out_features=8, bias=True))\"\n",
        "example_output = \"This neural network takes an input of shape (b,38809) and produces an output of shape (b,8). It consists of 8 layers, including a Linear layer (38809 -> 26), a Leaky ReLU activation (negative_slope=0.01), a Linear layer (676 -> 183), a 1D Batch Normalization (num_features=183), a Leaky ReLU activation (negative_slope=0.01), a 2D Convolutional layer (1 -> 25, kernel_size=(3, 3)), a Dropout layer (p=0.12), a Linear layer (837225 -> 8).\"\n",
        "\n",
        "# Tokenize the input and output\n",
        "input_tokens = tokenizer.tokenize(example_input)\n",
        "output_tokens = tokenizer.tokenize(example_output)\n",
        "\n",
        "print(\"Input Tokens:\", input_tokens)\n",
        "print(\"Output Tokens:\", output_tokens)\n"
      ]
    },
    {
      "cell_type": "code",
      "execution_count": null,
      "metadata": {
        "colab": {
          "base_uri": "https://localhost:8080/"
        },
        "id": "EQ_VCH5DhfmV",
        "outputId": "60b88a65-fd5a-405c-d20a-a28d7b2f5b21"
      },
      "outputs": [],
      "source": [
        "# Convert tokens to input IDs\n",
        "input_ids = tokenizer.convert_tokens_to_ids(input_tokens)\n",
        "output_ids = tokenizer.convert_tokens_to_ids(output_tokens)\n",
        "\n",
        "print(\"Input IDs:\", input_ids)\n",
        "print(\"Output IDs:\", output_ids)\n"
      ]
    },
    {
      "cell_type": "code",
      "execution_count": null,
      "metadata": {
        "colab": {
          "base_uri": "https://localhost:8080/"
        },
        "id": "qfaNQb24jyea",
        "outputId": "8eca7170-6ad0-475b-acd2-3620314393e6"
      },
      "outputs": [],
      "source": [
        "type(sample_df[0])"
      ]
    },
    {
      "cell_type": "code",
      "execution_count": null,
      "metadata": {},
      "outputs": [],
      "source": [
        "import json\n",
        "with open(\"./data/data_10k.json\", \"r\") as f:\n",
        "    data = json.load(f)\n",
        "\n",
        "len(data)"
      ]
    },
    {
      "cell_type": "code",
      "execution_count": null,
      "metadata": {
        "colab": {
          "base_uri": "https://localhost:8080/"
        },
        "id": "Xi6tCp11jAp1",
        "outputId": "129e0557-d8bc-4467-f8a1-2c118c46cbc2"
      },
      "outputs": [],
      "source": [
        "from transformers import BertTokenizer\n",
        "import torch\n",
        "from torch.utils.data import Dataset, DataLoader\n",
        "\n",
        "class SyntheticDataset(Dataset):\n",
        "    def __init__(self, data, tokenizer, max_length=512):\n",
        "        self.data = data\n",
        "        self.tokenizer = tokenizer\n",
        "        self.max_length = max_length\n",
        "\n",
        "    def __len__(self):\n",
        "        return len(self.data)\n",
        "\n",
        "    def __getitem__(self, idx):\n",
        "        input_text, output_text = self.data[idx]\n",
        "\n",
        "        # Tokenize input and output texts\n",
        "        input_encoding = self.tokenizer(input_text, return_tensors='pt', max_length=self.max_length, truncation=True, padding='max_length')\n",
        "        output_encoding = self.tokenizer(output_text, return_tensors='pt', max_length=self.max_length, truncation=True, padding='max_length')\n",
        "\n",
        "        # Extract input and output IDs\n",
        "        input_ids = input_encoding['input_ids'].squeeze(0)  # Remove batch dimension\n",
        "        output_ids = output_encoding['input_ids'].squeeze(0)  # Remove batch dimension\n",
        "\n",
        "        return input_ids, output_ids\n",
        "\n",
        "# Initialize the tokenizer\n",
        "tokenizer = BertTokenizer.from_pretrained('bert-base-uncased')\n",
        "\n",
        "# Example data\n",
        "example_input = \"Sequential((0): Linear(in_features=38809, out_features=26, bias=True) (1): LeakyReLU(negative_slope=0.01) (2): Linear(in_features=676, out_features=183, bias=True) (3): BatchNorm1d(183, eps=1e-05, momentum=0.1, affine=True, track_running_stats=True) (4): LeakyReLU(negative_slope=0.01) (5): Conv2d(1, 25, kernel_size=(3, 3), stride=(1, 1), padding=(1, 1)) (6): Dropout(p=0.11890518865721189, inplace=False) (7): Linear(in_features=837225, out_features=8, bias=True))\"\n",
        "example_output = \"This neural network takes an input of shape (b,38809) and produces an output of shape (b,8). It consists of 8 layers, including a Linear layer (38809 -> 26), a Leaky ReLU activation (negative_slope=0.01), a Linear layer (676 -> 183), a 1D Batch Normalization (num_features=183), a Leaky ReLU activation (negative_slope=0.01), a 2D Convolutional layer (1 -> 25, kernel_size=(3, 3)), a Dropout layer (p=0.12), a Linear layer (837225 -> 8).\"\n",
        "\n",
        "# Create dataset\n",
        "# data = [(example_input, example_output)]\n",
        "# data = [(str(sample_df[-1][0]), sample_df[-1][1])]\n",
        "# data = [(str(sample_df[i][0]), sample_df[i][1]) for i in range(len(sample_df))]\n",
        "dataset = SyntheticDataset(data, tokenizer)\n",
        "\n",
        "# Create DataLoader\n",
        "dataloader = DataLoader(dataset, batch_size=24, shuffle=True)\n",
        "\n",
        "# Print the first batch to verify\n",
        "for batch in dataloader:\n",
        "    src, tgt = batch\n",
        "    print(\"Source Shape:\", src.shape)\n",
        "    print(\"Target Shape:\", tgt.shape)\n",
        "    break\n"
      ]
    },
    {
      "cell_type": "code",
      "execution_count": null,
      "metadata": {
        "colab": {
          "base_uri": "https://localhost:8080/"
        },
        "id": "VwHKeyRqisLk",
        "outputId": "746ae826-8ef0-428a-d813-22f89cc1d3c7"
      },
      "outputs": [],
      "source": [
        "# device = torch.device('cuda' if torch.cuda.is_available() else 'cpu')\n",
        "device = torch.device(\"mps\") if torch.backends.mps.is_available() else torch.device(\"cpu\")  #for mac\n",
        "\n",
        "model = TransformerSeq2Seq(len(tokenizer.vocab), len(tokenizer.vocab)).to(device)\n",
        "optimizer = optim.Adam(model.parameters(), lr=0.0001)\n",
        "criterion = nn.CrossEntropyLoss()\n",
        "\n",
        "def train(model, dataloader, optimizer, criterion, num_epochs=10):\n",
        "    model.train()\n",
        "\n",
        "    for epoch in range(num_epochs):\n",
        "        epoch_loss = 0\n",
        "\n",
        "        for src, tgt in dataloader:\n",
        "            src, tgt = src.to(device), tgt.to(device)\n",
        "\n",
        "            optimizer.zero_grad()\n",
        "\n",
        "            output = model(src, tgt[:-1, :])\n",
        "            output = output.reshape(-1, output.shape[2])\n",
        "            tgt = tgt[1:, :].reshape(-1)\n",
        "\n",
        "            loss = criterion(output, tgt)\n",
        "            loss.backward()\n",
        "            optimizer.step()\n",
        "\n",
        "            epoch_loss += loss.item()\n",
        "\n",
        "        print(f'Epoch {epoch+1}, Loss: {epoch_loss / len(dataloader)}')\n",
        "\n",
        "# Train the model\n",
        "# train(model, dataloader, optimizer, criterion, num_epochs=20)\n"
      ]
    },
    {
      "cell_type": "code",
      "execution_count": null,
      "metadata": {
        "colab": {
          "base_uri": "https://localhost:8080/"
        },
        "id": "Wd4AoIPhxrmQ",
        "outputId": "a7f278fa-d0b5-4bf7-b4a2-c0f11a9a1b04"
      },
      "outputs": [],
      "source": [
        "!pip install numpy"
      ]
    },
    {
      "cell_type": "code",
      "execution_count": null,
      "metadata": {
        "colab": {
          "base_uri": "https://localhost:8080/"
        },
        "id": "9dhZqSnFi6bL",
        "outputId": "0748e0b1-b310-4a60-d971-b5b8a2ecfedf"
      },
      "outputs": [],
      "source": [
        "import os\n",
        "# device = torch.device(\"mps\") if torch.backends.mps.is_available() else torch.device(\"cpu\")  #for mac\n",
        "def train_with_checkpointing(model, dataloader, optimizer, criterion, num_epochs=10, patience=3, checkpoint_path='checkpoint.pt'):\n",
        "    model.train()\n",
        "    best_loss = float('inf')\n",
        "    epochs_no_improve = 0\n",
        "\n",
        "    for epoch in range(num_epochs):\n",
        "        epoch_loss = 0\n",
        "\n",
        "        for src, tgt in dataloader:\n",
        "            src, tgt = src.to(device), tgt.to(device)\n",
        "\n",
        "            optimizer.zero_grad()\n",
        "\n",
        "            output = model(src, tgt[:-1, :])\n",
        "            output = output.reshape(-1, output.shape[2])\n",
        "            tgt = tgt[1:, :].reshape(-1)\n",
        "\n",
        "            loss = criterion(output, tgt)\n",
        "            loss.backward()\n",
        "            optimizer.step()\n",
        "\n",
        "            epoch_loss += loss.item()\n",
        "\n",
        "        avg_epoch_loss = epoch_loss / len(dataloader)\n",
        "        print(f'Epoch {epoch+1}, Loss: {avg_epoch_loss}')\n",
        "\n",
        "        # Checkpointing\n",
        "        if avg_epoch_loss < best_loss:\n",
        "            best_loss = avg_epoch_loss\n",
        "            torch.save(model.state_dict(), checkpoint_path)\n",
        "            epochs_no_improve = 0\n",
        "        else:\n",
        "            epochs_no_improve += 1\n",
        "            if epochs_no_improve == patience:\n",
        "                print('Early stopping')\n",
        "                break\n",
        "\n",
        "# Train the model with checkpointing\n",
        "train_with_checkpointing(model, dataloader, optimizer, criterion, num_epochs=20, patience=5)\n"
      ]
    },
    {
      "cell_type": "code",
      "execution_count": null,
      "metadata": {
        "colab": {
          "base_uri": "https://localhost:8080/"
        },
        "id": "htvJemL7sNuC",
        "outputId": "9027ee37-ebaa-464a-fa86-99ebee5caa30"
      },
      "outputs": [],
      "source": [
        "!ls -al"
      ]
    },
    {
      "cell_type": "code",
      "execution_count": null,
      "metadata": {
        "id": "4S6sHrDlsOcC"
      },
      "outputs": [],
      "source": [
        "!cp /content/checkpoint.pt /content/drive/MyDrive/ShodhAI/checkpoints"
      ]
    },
    {
      "cell_type": "code",
      "execution_count": null,
      "metadata": {},
      "outputs": [],
      "source": [
        "generate_dataset(1)"
      ]
    },
    {
      "cell_type": "code",
      "execution_count": null,
      "metadata": {},
      "outputs": [],
      "source": [
        "import numpy as np\n",
        "def f1_score(y_true, y_pred):\n",
        "    true_positives = np.sum((y_true == 1) & (y_pred == 1))\n",
        "    false_positives = np.sum((y_true == 0) & (y_pred == 1))\n",
        "    false_negatives = np.sum((y_true == 1) & (y_pred == 0))\n",
        "    \n",
        "    precision = true_positives / (true_positives + false_positives)\n",
        "    recall = true_positives / (true_positives + false_negatives)\n",
        "    \n",
        "    f1 = 2 * (precision * recall) / (precision + recall)\n",
        "    return f1"
      ]
    },
    {
      "cell_type": "code",
      "execution_count": null,
      "metadata": {},
      "outputs": [],
      "source": [
        "from transformers import BertTokenizer\n",
        "\n",
        "import torch\n",
        "from torch.utils.data import DataLoader\n",
        "import numpy as np\n",
        "\n",
        "def compute_f1_score(predictions, targets):\n",
        "    # Tokenize predictions and targets\n",
        "    pred_tokens = [pred.split() for pred in predictions]\n",
        "    target_tokens = [tgt.split() for tgt in targets]\n",
        "    \n",
        "    # Flatten the lists\n",
        "    pred_flat = [token for sent in pred_tokens for token in sent]\n",
        "    target_flat = [token for sent in target_tokens for token in sent]\n",
        "    \n",
        "    # Get unique tokens\n",
        "    unique_tokens = list(set(pred_flat + target_flat))\n",
        "    \n",
        "    # Create label encodings\n",
        "    label_encoder = {token: i for i, token in enumerate(unique_tokens)}\n",
        "    \n",
        "    # Encode predictions and targets\n",
        "    pred_encoded = [label_encoder[token] for token in pred_flat]\n",
        "    target_encoded = [label_encoder[token] for token in target_flat]\n",
        "    \n",
        "    # Compute F1 score\n",
        "    return f1_score(target_encoded, pred_encoded)\n",
        "\n",
        "def test_model(model, tokenizer, test_data, batch_size=32):\n",
        "    device = torch.device('cuda' if torch.cuda.is_available() else 'cpu')\n",
        "    \n",
        "    # Prepare DataLoader for testing\n",
        "    test_dataset = SyntheticDataset(test_data, tokenizer)\n",
        "    test_dataloader = DataLoader(test_dataset, batch_size=batch_size)\n",
        "    \n",
        "    # Set model to evaluation mode\n",
        "    model.eval()  ## It will freeze the model weights\n",
        "    srcs = []\n",
        "    predictions = []\n",
        "    targets = []\n",
        "    \n",
        "    with torch.no_grad():\n",
        "        for src, tgt in test_dataloader:\n",
        "            src, tgt = src.to(device), tgt.to(device)\n",
        "            \n",
        "            # Generate predictions\n",
        "            output = model(src, tgt[:-1, :])  # Remove last token from target for prediction\n",
        "            predicted_ids = torch.argmax(output, dim=-1)\n",
        "            \n",
        "            # Convert predicted IDs to tokens\n",
        "            predicted_tokens = tokenizer.batch_decode(predicted_ids, skip_special_tokens=True)\n",
        "            target_tokens = tokenizer.batch_decode(tgt, skip_special_tokens=True)\n",
        "            \n",
        "            # Store predictions and targets\n",
        "            ##\n",
        "            src_tokens = tokenizer.batch_decode(src, skip_special_tokens=True)\n",
        "            srcs.append(src_tokens)\n",
        "            predictions.extend(predicted_tokens)\n",
        "            targets.extend(target_tokens)\n",
        "    \n",
        "    # Compute F1 score\n",
        "    # f1 = compute_f1_score(predictions, targets)\n",
        "    \n",
        "    return srcs, predictions, targets #, f1\n",
        "\n",
        "def main():\n",
        "    # Initialize tokenizer\n",
        "    tokenizer = BertTokenizer.from_pretrained('bert-base-uncased')\n",
        "    \n",
        "    test_data = generate_dataset(10) # [(example source, example_traget)]\n",
        "    \n",
        "    # Initialize and load your TransformerSeq2Seq model\n",
        "    model = TransformerSeq2Seq(input_dim=len(tokenizer.vocab), output_dim=len(tokenizer.vocab))\n",
        "    model.load_state_dict(torch.load('/Users/sourav/Documents/myprojects/Shodh-AI-Assignment/model/checkpoint.pt'))  # Load your trained model checkpoint\n",
        "    model.to(device)\n",
        "    \n",
        "    # Test the model\n",
        "    predictions, f1_score = test_model(model, tokenizer, test_data)\n",
        "    \n",
        "    # Print predictions and F1 score\n",
        "    for idx, prediction in enumerate(predictions):\n",
        "        print(f\"Example {idx + 1} Prediction:\", prediction)\n",
        "    \n",
        "    print(f\"F1 Score: {f1_score:.4f}\")\n"
      ]
    },
    {
      "cell_type": "code",
      "execution_count": null,
      "metadata": {
        "id": "uGPy0L9huHkW"
      },
      "outputs": [],
      "source": [
        "tokenizer = BertTokenizer.from_pretrained('bert-base-uncased')\n",
        "    \n",
        "test_data = generate_dataset(10) # [(example source, example_traget)]\n",
        "\n",
        "# Initialize and load your TransformerSeq2Seq model\n",
        "model = TransformerSeq2Seq(input_dim=len(tokenizer.vocab), output_dim=len(tokenizer.vocab))\n",
        "model.load_state_dict(torch.load('/Users/sourav/Documents/myprojects/Shodh-AI-Assignment/model/checkpoint_10k.pt', map_location=torch.device('cpu')))  # Loading the trained model checkpoint"
      ]
    },
    {
      "cell_type": "code",
      "execution_count": null,
      "metadata": {},
      "outputs": [],
      "source": [
        "device"
      ]
    },
    {
      "cell_type": "code",
      "execution_count": null,
      "metadata": {},
      "outputs": [],
      "source": [
        "srcs, predictions, targets = test_model(model, tokenizer, test_data)"
      ]
    },
    {
      "cell_type": "code",
      "execution_count": null,
      "metadata": {},
      "outputs": [],
      "source": [
        "srcs"
      ]
    },
    {
      "cell_type": "code",
      "execution_count": null,
      "metadata": {},
      "outputs": [],
      "source": [
        "predictions"
      ]
    },
    {
      "cell_type": "code",
      "execution_count": null,
      "metadata": {},
      "outputs": [],
      "source": [
        "targets"
      ]
    },
    {
      "cell_type": "code",
      "execution_count": null,
      "metadata": {},
      "outputs": [],
      "source": [
        "# Print predictions and F1 score\n",
        "for idx, prediction in enumerate(predictions):\n",
        "    print(f\"Example {idx + 1} Prediction:\", prediction)\n",
        "\n",
        "print(f\"F1 Score: {f1_score:.4f}\")"
      ]
    },
    {
      "cell_type": "code",
      "execution_count": null,
      "metadata": {},
      "outputs": [],
      "source": [
        "torch.backends.mps.is_available()"
      ]
    },
    {
      "cell_type": "code",
      "execution_count": null,
      "metadata": {},
      "outputs": [],
      "source": [
        "device = torch.device(\"mps\") if torch.backends.mps.is_available() else torch.device(\"cpu\")  #for mac"
      ]
    },
    {
      "cell_type": "code",
      "execution_count": null,
      "metadata": {},
      "outputs": [],
      "source": [
        "device"
      ]
    },
    {
      "cell_type": "code",
      "execution_count": null,
      "metadata": {},
      "outputs": [],
      "source": [
        "a = torch.randn(2, 3, 4, 5)\n",
        "a.device"
      ]
    },
    {
      "cell_type": "code",
      "execution_count": null,
      "metadata": {},
      "outputs": [],
      "source": [
        "# Tokenize predictions and targets\n",
        "pred_tokens = [pred.split() for pred in predictions]\n",
        "target_tokens = [tgt.split() for tgt in targets]"
      ]
    },
    {
      "cell_type": "code",
      "execution_count": null,
      "metadata": {},
      "outputs": [],
      "source": [
        "len(pred_tokens)"
      ]
    },
    {
      "cell_type": "code",
      "execution_count": null,
      "metadata": {},
      "outputs": [],
      "source": [
        "# Flatten the lists\n",
        "pred_flat = [token for sent in pred_tokens for token in sent]\n",
        "target_flat = [token for sent in target_tokens for token in sent]"
      ]
    },
    {
      "cell_type": "code",
      "execution_count": null,
      "metadata": {},
      "outputs": [],
      "source": [
        "unique_tokens = list(set(pred_flat + target_flat))\n",
        "unique_tokens"
      ]
    },
    {
      "cell_type": "code",
      "execution_count": null,
      "metadata": {},
      "outputs": [],
      "source": [
        "# Flatten the lists\n",
        "pred_flat = [token for sent in pred_tokens for token in sent]\n",
        "target_flat = [token for sent in target_tokens for token in sent]\n",
        "\n",
        "# Get unique tokens\n",
        "unique_tokens = list(set(pred_flat + target_flat))\n",
        "\n",
        "# Create label encodings\n",
        "label_encoder = {token: i for i, token in enumerate(unique_tokens)}\n",
        "\n",
        "# Encode predictions and targets\n",
        "pred_encoded = [label_encoder[token] for token in pred_flat]\n",
        "target_encoded = [label_encoder[token] for token in target_flat]\n",
        "\n",
        "# Compute F1 score\n",
        "return f1_score(target_encoded, pred_encoded)"
      ]
    },
    {
      "cell_type": "code",
      "execution_count": null,
      "metadata": {},
      "outputs": [],
      "source": [
        "from sklearn.metrics import precision_recall_fscore_support, accuracy_score\n",
        "\n",
        "def calculate_metrics(predictions, targets, tokenizer):\n",
        "    # Flatten the list of lists\n",
        "    pred_flat = [token for sent in predictions for token in sent]\n",
        "    target_flat = [token for sent in targets for token in sent]\n",
        "    \n",
        "    # Convert tokens to IDs\n",
        "    pred_ids = tokenizer.convert_tokens_to_ids(pred_flat)\n",
        "    target_ids = tokenizer.convert_tokens_to_ids(target_flat)\n",
        "    \n",
        "    # Ensure we use the same set of unique tokens for both\n",
        "    unique_tokens = list(set(pred_ids + target_ids))\n",
        "    \n",
        "    # Calculate precision, recall, and F1-score\n",
        "    precision, recall, f1, _ = precision_recall_fscore_support(target_ids, pred_ids, labels=unique_tokens, average='weighted')\n",
        "    accuracy = accuracy_score(target_ids, pred_ids)\n",
        "    \n",
        "    return precision, recall, f1, accuracy\n",
        "\n",
        "# Example usage:\n",
        "predictions = [[\"token1\", \"token2\", \"token3\"], [\"token4\", \"token5\"]]\n",
        "targets = [[\"token1\", \"token2\", \"token6\"], [\"token4\", \"token7\"]]\n",
        "\n",
        "# Initialize tokenizer\n",
        "tokenizer = BertTokenizer.from_pretrained('bert-base-uncased')\n",
        "\n",
        "# Calculate metrics\n",
        "precision, recall, f1, accuracy = calculate_metrics(predictions, targets, tokenizer)\n",
        "\n",
        "print(f\"Precision: {precision:.4f}\")\n",
        "print(f\"Recall: {recall:.4f}\")\n",
        "print(f\"F1 Score: {f1:.4f}\")\n",
        "print(f\"Accuracy: {accuracy:.4f}\")\n"
      ]
    },
    {
      "cell_type": "code",
      "execution_count": null,
      "metadata": {},
      "outputs": [],
      "source": []
    }
  ],
  "metadata": {
    "accelerator": "GPU",
    "colab": {
      "gpuType": "T4",
      "provenance": []
    },
    "kernelspec": {
      "display_name": "Python 3",
      "name": "python3"
    },
    "language_info": {
      "codemirror_mode": {
        "name": "ipython",
        "version": 3
      },
      "file_extension": ".py",
      "mimetype": "text/x-python",
      "name": "python",
      "nbconvert_exporter": "python",
      "pygments_lexer": "ipython3",
      "version": "3.12.4"
    }
  },
  "nbformat": 4,
  "nbformat_minor": 0
}
